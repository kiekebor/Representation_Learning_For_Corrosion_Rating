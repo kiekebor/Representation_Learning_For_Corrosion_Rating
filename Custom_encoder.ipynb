{
 "cells": [
  {
   "cell_type": "code",
   "execution_count": 1,
   "metadata": {
    "id": "mgDi2HlgP9Ys"
   },
   "outputs": [],
   "source": [
    "import tensorflow as tf\n",
    "from tensorflow.keras import layers\n",
    "import numpy as np\n",
    "import pandas as pd\n",
    "from tensorflow import keras \n",
    "import time\n",
    "import matplotlib.pyplot as plt"
   ]
  },
  {
   "cell_type": "markdown",
   "metadata": {},
   "source": [
    "<b>LOADING AND PREPROCESSING THE DATASET</b>"
   ]
  },
  {
   "cell_type": "code",
   "execution_count": 2,
   "metadata": {
    "colab": {
     "base_uri": "https://localhost:8080/"
    },
    "id": "zdEdNIbnQIDS",
    "outputId": "8211ef16-3883-4c36-cc19-7eeae7cdba5f"
   },
   "outputs": [
    {
     "name": "stdout",
     "output_type": "stream",
     "text": [
      "Found 540 files belonging to 1 classes.\n",
      "Using 486 files for training.\n",
      "Using 54 files for validation.\n"
     ]
    }
   ],
   "source": [
    "#loading and preprocessing the dataset\n",
    "batch_size = 32\n",
    "image_size = (28,28)\n",
    "root_dir = 'D:\\\\Documents\\\\DATA_SET_FOR_RELEASE\\\\renamed\\\\all_train'\n",
    "train_ds, val_ds = tf.keras.preprocessing.image_dataset_from_directory(root_dir,\n",
    "  image_size=image_size,\n",
    "  batch_size=batch_size,\n",
    "  label_mode=None,\n",
    "  validation_split=0.1,\n",
    "  subset = 'both',\n",
    "  seed = 45)\n",
    "\n",
    "\n",
    " \n",
    "normalization_layer = layers.Rescaling(scale= 1./255) \n",
    " \n",
    "normalized_train_ds = train_ds.map(lambda x: normalization_layer(x))\n",
    "normalized_val_ds = val_ds.map(lambda x: normalization_layer(x))"
   ]
  },
  {
   "cell_type": "markdown",
   "metadata": {},
   "source": [
    "  <b>DEFINE SAMPLING TECHNIQUE FOR THE LATENT SPACE</b>"
   ]
  },
  {
   "cell_type": "code",
   "execution_count": 3,
   "metadata": {
    "id": "jEuONDx4WNYF"
   },
   "outputs": [],
   "source": [
    "#sampling_reparameterization function--- Function for generating samples\n",
    "def sampling_reparameterization(distribution_params):\n",
    "    mean, log_var = distribution_params\n",
    "    epsilon = tf.keras.backend.random_normal(shape=tf.keras.backend.shape(mean), mean=0., stddev=1.)\n",
    "    z = mean + tf.keras.backend.exp(log_var / 2) * epsilon\n",
    "    \n",
    "    return z"
   ]
  },
  {
   "cell_type": "code",
   "execution_count": 4,
   "metadata": {
    "id": "37goWdibQLLz"
   },
   "outputs": [],
   "source": [
    "#the sampling network\n",
    "latent_dim = 10 #dimension of the latent space\n",
    "\n",
    "def sampling(input_1,input_2):\n",
    "    mean = keras.Input(shape=input_1, name='input_layer1')\n",
    "    log_var = keras.Input(shape=input_2, name='input_layer2')\n",
    "    out = layers.Lambda(sampling_reparameterization, name='encoder_output')([mean, log_var])\n",
    "    enc_2 = tf.keras.Model([mean,log_var], out,  name=\"Encoder_2\")\n",
    "    \n",
    "    return enc_2\n",
    "sampler = sampling(latent_dim, latent_dim)"
   ]
  },
  {
   "cell_type": "markdown",
   "metadata": {},
   "source": [
    " <b>DEFINE LOSS FUNCTION AND OPTIMIZER FOR TRAINING</b>"
   ]
  },
  {
   "cell_type": "code",
   "execution_count": 79,
   "metadata": {
    "id": "qo_2LxcPYMUG"
   },
   "outputs": [],
   "source": [
    "#Define the initial learning rate and the decay rate\n",
    "initial_learning_rate = 0.0008\n",
    "decay_steps = 200\n",
    "decay_rate = 0.7\n",
    "staircase = True\n",
    "\n",
    "# Create the learning rate schedule\n",
    "learning_rate_fn = tf.keras.optimizers.schedules.ExponentialDecay(initial_learning_rate,decay_steps, decay_rate, staircase=staircase)\n",
    "\n",
    "# Define the optimizer\n",
    "optimizer_1 = tf.optimizers.Adam(learning_rate=learning_rate_fn)\n",
    "optimizer_2 = tf.optimizers.Adam(learning_rate=learning_rate_fn)\n",
    "\n",
    "#Define scaling factor for loss functions\n",
    "beta = 660\n",
    " \n",
    "def mse_loss(y_true, y_pred):\n",
    "    r_loss = tf.keras.backend.mean(tf.keras.backend.square(y_true - y_pred), axis = [1,2,3])\n",
    "    return r_loss\n",
    " \n",
    "def kl_loss(mean, log_var):\n",
    "    kl_loss =  -0.5 * tf.keras.backend.sum(1 + log_var - tf.keras.backend.square(mean) - tf.keras.backend.exp(log_var), axis = 1)\n",
    "    return kl_loss\n",
    " \n",
    "def vae_loss(y_true, y_pred, mean, log_var):\n",
    "    r_loss = mse_loss(y_true, y_pred)\n",
    "    KL_loss = kl_loss(mean, log_var)\n",
    "    training_loss = (beta*r_loss) + KL_loss\n",
    "    \n",
    "    return training_loss"
   ]
  },
  {
   "cell_type": "markdown",
   "metadata": {},
   "source": [
    " <b>BUILDING THE ENCODER</b>"
   ]
  },
  {
   "cell_type": "code",
   "execution_count": 80,
   "metadata": {
    "colab": {
     "base_uri": "https://localhost:8080/"
    },
    "id": "W-ktB0GuZTri",
    "outputId": "a96918e5-0e9f-4eaa-8e63-ca15c0c03cb0"
   },
   "outputs": [
    {
     "name": "stdout",
     "output_type": "stream",
     "text": [
      "Model: \"Encoder\"\n",
      "__________________________________________________________________________________________________\n",
      " Layer (type)                   Output Shape         Param #     Connected to                     \n",
      "==================================================================================================\n",
      " input_layer (InputLayer)       [(None, 28, 28, 3)]  0           []                               \n",
      "                                                                                                  \n",
      " conv_1 (Conv2D)                (None, 14, 14, 32)   896         ['input_layer[0][0]']            \n",
      "                                                                                                  \n",
      " bn_1 (BatchNormalization)      (None, 14, 14, 32)   128         ['conv_1[0][0]']                 \n",
      "                                                                                                  \n",
      " lrelu_1 (LeakyReLU)            (None, 14, 14, 32)   0           ['bn_1[0][0]']                   \n",
      "                                                                                                  \n",
      " conv_2 (Conv2D)                (None, 7, 7, 64)     18496       ['lrelu_1[0][0]']                \n",
      "                                                                                                  \n",
      " bn_2 (BatchNormalization)      (None, 7, 7, 64)     256         ['conv_2[0][0]']                 \n",
      "                                                                                                  \n",
      " lrelu_2 (LeakyReLU)            (None, 7, 7, 64)     0           ['bn_2[0][0]']                   \n",
      "                                                                                                  \n",
      " conv_3 (Conv2D)                (None, 4, 4, 64)     36928       ['lrelu_2[0][0]']                \n",
      "                                                                                                  \n",
      " bn_3 (BatchNormalization)      (None, 4, 4, 64)     256         ['conv_3[0][0]']                 \n",
      "                                                                                                  \n",
      " lrelu_3 (LeakyReLU)            (None, 4, 4, 64)     0           ['bn_3[0][0]']                   \n",
      "                                                                                                  \n",
      " conv_4 (Conv2D)                (None, 2, 2, 64)     36928       ['lrelu_3[0][0]']                \n",
      "                                                                                                  \n",
      " bn_4 (BatchNormalization)      (None, 2, 2, 64)     256         ['conv_4[0][0]']                 \n",
      "                                                                                                  \n",
      " lrelu_4 (LeakyReLU)            (None, 2, 2, 64)     0           ['bn_4[0][0]']                   \n",
      "                                                                                                  \n",
      " conv_5 (Conv2D)                (None, 1, 1, 64)     36928       ['lrelu_4[0][0]']                \n",
      "                                                                                                  \n",
      " bn_5 (BatchNormalization)      (None, 1, 1, 64)     256         ['conv_5[0][0]']                 \n",
      "                                                                                                  \n",
      " lrelu_5 (LeakyReLU)            (None, 1, 1, 64)     0           ['bn_5[0][0]']                   \n",
      "                                                                                                  \n",
      " Flatten_1 (Flatten)            (None, 64)           0           ['lrelu_5[0][0]']                \n",
      "                                                                                                  \n",
      " Flatten_2 (Dense)              (None, 32)           2080        ['Flatten_1[0][0]']              \n",
      "                                                                                                  \n",
      " Flatten_3 (Dense)              (None, 16)           528         ['Flatten_2[0][0]']              \n",
      "                                                                                                  \n",
      " mean (Dense)                   (None, 10)           170         ['Flatten_3[0][0]']              \n",
      "                                                                                                  \n",
      " log_var (Dense)                (None, 10)           170         ['Flatten_3[0][0]']              \n",
      "                                                                                                  \n",
      "==================================================================================================\n",
      "Total params: 134,276\n",
      "Trainable params: 133,700\n",
      "Non-trainable params: 576\n",
      "__________________________________________________________________________________________________\n"
     ]
    }
   ],
   "source": [
    "\n",
    "def encoder(input_encoder):\n",
    "     \n",
    "     \n",
    "    inputs = keras.Input(shape=input_encoder, name='input_layer')\n",
    "     \n",
    "    # Block-1\n",
    "    x = layers.Conv2D(32, kernel_size=3, strides= 2, padding='same', name='conv_1')(inputs)\n",
    "    x = layers.BatchNormalization(name='bn_1')(x)\n",
    "    x = layers.LeakyReLU(name='lrelu_1')(x)\n",
    "   \n",
    "    # Block-2\n",
    "    x = layers.Conv2D(64, kernel_size=3, strides= 2, padding='same', name='conv_2')(x)\n",
    "    x = layers.BatchNormalization(name='bn_2')(x)\n",
    "    x = layers.LeakyReLU(name='lrelu_2')(x)\n",
    "    \n",
    "    # Block-3\n",
    "    x = layers.Conv2D(64, 3, 2, padding='same', name='conv_3')(x)\n",
    "    x = layers.BatchNormalization(name='bn_3')(x)\n",
    "    x = layers.LeakyReLU(name='lrelu_3')(x)\n",
    "    \n",
    "    # Block-4\n",
    "    x = layers.Conv2D(64, 3, 2, padding='same', name='conv_4')(x)\n",
    "    x = layers.BatchNormalization(name='bn_4')(x)\n",
    "    x = layers.LeakyReLU(name='lrelu_4')(x)\n",
    "   \n",
    "    # Block-5\n",
    "    x = layers.Conv2D(64, 3, 2, padding='same', name='conv_5')(x)\n",
    "    x = layers.BatchNormalization(name='bn_5')(x)\n",
    "    x = layers.LeakyReLU(name='lrelu_5')(x)\n",
    "  \n",
    " \n",
    "    # # Final Block\n",
    "    flatten = layers.Flatten(name = 'Flatten_1')(x)\n",
    "    flatten = layers.Dense(32, name='Flatten_2')(flatten)\n",
    "    flatten = layers.Dense(16, name='Flatten_3')(flatten)\n",
    "    mean = layers.Dense(latent_dim, name='mean')(flatten)\n",
    "    log_var = layers.Dense(latent_dim, name='log_var')(flatten)\n",
    "    model = tf.keras.Model(inputs, (mean, log_var), name=\"Encoder\")\n",
    "    return model\n",
    "\n",
    "    \n",
    "\n",
    "    \n",
    "enc = encoder((*image_size,3))\n",
    "enc.summary()"
   ]
  },
  {
   "cell_type": "markdown",
   "metadata": {},
   "source": [
    " <b>BUILDING THE DECODER</b>"
   ]
  },
  {
   "cell_type": "code",
   "execution_count": 81,
   "metadata": {
    "colab": {
     "base_uri": "https://localhost:8080/"
    },
    "id": "kb1lKJagZhTh",
    "outputId": "9bb92d48-3238-4698-f958-bf3f7b722e46"
   },
   "outputs": [
    {
     "name": "stdout",
     "output_type": "stream",
     "text": [
      "Model: \"Decoder\"\n",
      "_________________________________________________________________\n",
      " Layer (type)                Output Shape              Param #   \n",
      "=================================================================\n",
      " input_layer (InputLayer)    [(None, 10)]              0         \n",
      "                                                                 \n",
      " dense_1 (Dense)             (None, 100)               1100      \n",
      "                                                                 \n",
      " lrelu_A (LeakyReLU)         (None, 100)               0         \n",
      "                                                                 \n",
      " dense_2 (Dense)             (None, 600)               60600     \n",
      "                                                                 \n",
      " lrelu_B (LeakyReLU)         (None, 600)               0         \n",
      "                                                                 \n",
      " dense_3 (Dense)             (None, 3136)              1884736   \n",
      "                                                                 \n",
      " lrelu_C (LeakyReLU)         (None, 3136)              0         \n",
      "                                                                 \n",
      " Reshape (Reshape)           (None, 7, 7, 64)          0         \n",
      "                                                                 \n",
      " conv_transpose_1 (Conv2DTra  (None, 7, 7, 64)         36928     \n",
      " nspose)                                                         \n",
      "                                                                 \n",
      " bn_A (BatchNormalization)   (None, 7, 7, 64)          256       \n",
      "                                                                 \n",
      " lrelu_D (LeakyReLU)         (None, 7, 7, 64)          0         \n",
      "                                                                 \n",
      " conv_transpose_2 (Conv2DTra  (None, 14, 14, 64)       36928     \n",
      " nspose)                                                         \n",
      "                                                                 \n",
      " bn_B (BatchNormalization)   (None, 14, 14, 64)        256       \n",
      "                                                                 \n",
      " lrelu_E (LeakyReLU)         (None, 14, 14, 64)        0         \n",
      "                                                                 \n",
      " conv_transpose_3 (Conv2DTra  (None, 28, 28, 64)       36928     \n",
      " nspose)                                                         \n",
      "                                                                 \n",
      " bn_C (BatchNormalization)   (None, 28, 28, 64)        256       \n",
      "                                                                 \n",
      " lrelu_F (LeakyReLU)         (None, 28, 28, 64)        0         \n",
      "                                                                 \n",
      " conv_transpose_5 (Conv2DTra  (None, 28, 28, 3)        1731      \n",
      " nspose)                                                         \n",
      "                                                                 \n",
      "=================================================================\n",
      "Total params: 2,059,719\n",
      "Trainable params: 2,059,335\n",
      "Non-trainable params: 384\n",
      "_________________________________________________________________\n"
     ]
    }
   ],
   "source": [
    "#build the decoder\n",
    "def decoder(input_decoder):\n",
    "     \n",
    "    inputs = keras.Input(shape=input_decoder, name='input_layer')\n",
    "  \n",
    "    x = layers.Dense(100, name='dense_1')(inputs)\n",
    "    x = layers.LeakyReLU(name='lrelu_A')(x)\n",
    "\n",
    "    x = layers.Dense(600, name='dense_2')(x)\n",
    "    x = layers.LeakyReLU(name='lrelu_B')(x)\n",
    "\n",
    "    x = layers.Dense(3136, name='dense_3')(x)\n",
    "    x = layers.LeakyReLU(name='lrelu_C')(x)\n",
    "    x = layers.Reshape((7,7,64), name='Reshape')(x)\n",
    "     \n",
    "    # Block-1\n",
    "    x = layers.Conv2DTranspose(64, 3, strides= 1, padding='same',name='conv_transpose_1')(x)\n",
    "    x = layers.BatchNormalization(name='bn_A')(x)\n",
    "    x = layers.LeakyReLU(name='lrelu_D')(x)\n",
    "    \n",
    "    # Block-2\n",
    "    x = layers.Conv2DTranspose(64, 3, strides= 2, padding='same', name='conv_transpose_2')(x)\n",
    "    x = layers.BatchNormalization(name='bn_B')(x)\n",
    "    x = layers.LeakyReLU(name='lrelu_E')(x)\n",
    "  \n",
    "  \n",
    "    # Block-3\n",
    "    x = layers.Conv2DTranspose(64, 3, 2, padding='same', name='conv_transpose_3')(x)\n",
    "    x = layers.BatchNormalization(name='bn_C')(x)\n",
    "    x = layers.LeakyReLU(name='lrelu_F')(x)\n",
    "       \n",
    "    # Block-5\n",
    "    outputs = layers.Conv2DTranspose(3, 3, 1,padding='same', activation='sigmoid', name='conv_transpose_5')(x)\n",
    "    model = tf.keras.Model(inputs, outputs, name=\"Decoder\")\n",
    "    return model\n",
    "    print(dec.summary())\n",
    "    \n",
    "dec = decoder((latent_dim,))\n",
    "dec.summary()\n"
   ]
  },
  {
   "cell_type": "markdown",
   "metadata": {},
   "source": [
    " <b>DEFINE CUSTOM TRAINING LOOP</b>"
   ]
  },
  {
   "cell_type": "code",
   "execution_count": 82,
   "metadata": {
    "id": "9FOB6W8ZcDp3"
   },
   "outputs": [],
   "source": [
    "@tf.function\n",
    "def train_step(train_images):\n",
    " \n",
    "    with tf.GradientTape() as encoder, tf.GradientTape() as decoder:\n",
    "       \n",
    "       \n",
    "        mean, log_var = enc(train_images, training=True)\n",
    "        latent = sampler([mean, log_var])\n",
    "        generated_images = dec(latent, training=True)\n",
    "        loss = vae_loss(train_images, generated_images, mean, log_var)\n",
    "        MSE =  mse_loss(train_images, generated_images)\n",
    "        KLE = kl_loss(mean, log_var)\n",
    "\n",
    "         \n",
    "    gradients_of_enc = encoder.gradient(loss, enc.trainable_variables)\n",
    "    gradients_of_dec = decoder.gradient(loss, dec.trainable_variables)\n",
    "     \n",
    "    optimizer_1.apply_gradients(zip(gradients_of_enc, enc.trainable_variables))\n",
    "    optimizer_2.apply_gradients(zip(gradients_of_dec, dec.trainable_variables))\n",
    "    return loss,MSE,KLE\n",
    "\n",
    "\n",
    "def val_step(val_images):\n",
    "  mean, log_var = enc(val_images)\n",
    "  latent = sampler([mean, log_var])\n",
    "  generated_images_val = dec(latent)\n",
    "  val_loss = mse_loss(val_images, generated_images_val)\n",
    "\n",
    "  return val_loss\n",
    "        "
   ]
  },
  {
   "cell_type": "code",
   "execution_count": 83,
   "metadata": {
    "colab": {
     "base_uri": "https://localhost:8080/"
    },
    "id": "146Pvk1bcWmY",
    "outputId": "4d4a327f-adc5-4608-802b-9bf3b94f38bf",
    "scrolled": true
   },
   "outputs": [
    {
     "name": "stdout",
     "output_type": "stream",
     "text": [
      "epoch: 1 || Training Loss:32.0014 || MSE:0.0391 || KL_Loss: 6.2185 || Val_MSE:0.0541 || time 14.7531\n",
      "epoch: 2 || Training Loss:16.0945 || MSE:0.0203 || KL_Loss: 2.6836 || Val_MSE:0.0480 || time 4.7398\n",
      "epoch: 3 || Training Loss:13.7617 || MSE:0.0177 || KL_Loss: 2.0999 || Val_MSE:0.0485 || time 3.9633\n",
      "epoch: 4 || Training Loss:13.6411 || MSE:0.0179 || KL_Loss: 1.8295 || Val_MSE:0.0453 || time 3.9582\n",
      "epoch: 5 || Training Loss:12.8834 || MSE:0.0164 || KL_Loss: 2.0407 || Val_MSE:0.0420 || time 3.6615\n",
      "epoch: 6 || Training Loss:13.1650 || MSE:0.0169 || KL_Loss: 2.0384 || Val_MSE:0.0421 || time 4.0380\n",
      "epoch: 7 || Training Loss:13.0258 || MSE:0.0164 || KL_Loss: 2.1820 || Val_MSE:0.0390 || time 4.4551\n",
      "epoch: 8 || Training Loss:12.6340 || MSE:0.0163 || KL_Loss: 1.8608 || Val_MSE:0.0378 || time 4.0496\n",
      "epoch: 9 || Training Loss:11.4510 || MSE:0.0144 || KL_Loss: 1.9382 || Val_MSE:0.0395 || time 5.5638\n",
      "epoch: 10 || Training Loss:11.7037 || MSE:0.0148 || KL_Loss: 1.9381 || Val_MSE:0.0373 || time 4.0805\n",
      "epoch: 11 || Training Loss:11.7502 || MSE:0.0145 || KL_Loss: 2.1806 || Val_MSE:0.0351 || time 3.6158\n",
      "epoch: 12 || Training Loss:11.1854 || MSE:0.0141 || KL_Loss: 1.8652 || Val_MSE:0.0360 || time 4.1486\n",
      "epoch: 13 || Training Loss:11.9403 || MSE:0.0152 || KL_Loss: 1.9298 || Val_MSE:0.0308 || time 3.6562\n",
      "epoch: 14 || Training Loss:10.6221 || MSE:0.0134 || KL_Loss: 1.7765 || Val_MSE:0.0282 || time 4.3043\n",
      "epoch: 15 || Training Loss:10.8755 || MSE:0.0135 || KL_Loss: 1.9666 || Val_MSE:0.0258 || time 5.8179\n",
      "epoch: 16 || Training Loss:10.7395 || MSE:0.0133 || KL_Loss: 1.9516 || Val_MSE:0.0308 || time 4.8214\n",
      "epoch: 17 || Training Loss:11.6266 || MSE:0.0146 || KL_Loss: 1.9667 || Val_MSE:0.0250 || time 4.4537\n",
      "epoch: 18 || Training Loss:11.2483 || MSE:0.0141 || KL_Loss: 1.9655 || Val_MSE:0.0256 || time 5.9062\n",
      "epoch: 19 || Training Loss:10.4330 || MSE:0.0127 || KL_Loss: 2.0470 || Val_MSE:0.0261 || time 5.0888\n",
      "epoch: 20 || Training Loss:11.0804 || MSE:0.0137 || KL_Loss: 2.0158 || Val_MSE:0.0205 || time 4.4142\n",
      "epoch: 21 || Training Loss:10.0935 || MSE:0.0125 || KL_Loss: 1.8572 || Val_MSE:0.0185 || time 5.5210\n",
      "epoch: 22 || Training Loss:10.3763 || MSE:0.0129 || KL_Loss: 1.8369 || Val_MSE:0.0177 || time 5.1827\n",
      "epoch: 23 || Training Loss:10.1105 || MSE:0.0124 || KL_Loss: 1.9232 || Val_MSE:0.0182 || time 4.8398\n",
      "epoch: 24 || Training Loss:11.1604 || MSE:0.0139 || KL_Loss: 1.9931 || Val_MSE:0.0168 || time 5.4850\n",
      "epoch: 25 || Training Loss:10.1274 || MSE:0.0124 || KL_Loss: 1.9286 || Val_MSE:0.0175 || time 5.1833\n",
      "epoch: 26 || Training Loss:9.8296 || MSE:0.0121 || KL_Loss: 1.8710 || Val_MSE:0.0161 || time 4.5667\n",
      "epoch: 27 || Training Loss:9.8312 || MSE:0.0121 || KL_Loss: 1.8588 || Val_MSE:0.0143 || time 4.9917\n",
      "epoch: 28 || Training Loss:9.5867 || MSE:0.0116 || KL_Loss: 1.9107 || Val_MSE:0.0151 || time 5.2189\n",
      "epoch: 29 || Training Loss:9.5676 || MSE:0.0116 || KL_Loss: 1.9341 || Val_MSE:0.0150 || time 4.6348\n",
      "epoch: 30 || Training Loss:10.7366 || MSE:0.0132 || KL_Loss: 1.9929 || Val_MSE:0.0129 || time 5.1947\n",
      "epoch: 31 || Training Loss:10.9813 || MSE:0.0137 || KL_Loss: 1.9486 || Val_MSE:0.0132 || time 5.2937\n",
      "epoch: 32 || Training Loss:10.2263 || MSE:0.0124 || KL_Loss: 2.0479 || Val_MSE:0.0133 || time 4.7955\n",
      "epoch: 33 || Training Loss:9.7412 || MSE:0.0117 || KL_Loss: 2.0390 || Val_MSE:0.0133 || time 5.3324\n",
      "epoch: 34 || Training Loss:9.7972 || MSE:0.0118 || KL_Loss: 1.9979 || Val_MSE:0.0130 || time 5.1185\n",
      "epoch: 35 || Training Loss:10.1181 || MSE:0.0123 || KL_Loss: 2.0183 || Val_MSE:0.0132 || time 4.6371\n",
      "epoch: 36 || Training Loss:10.0162 || MSE:0.0122 || KL_Loss: 1.9553 || Val_MSE:0.0136 || time 5.5458\n",
      "epoch: 37 || Training Loss:9.5373 || MSE:0.0114 || KL_Loss: 2.0239 || Val_MSE:0.0137 || time 5.3924\n",
      "epoch: 38 || Training Loss:9.3690 || MSE:0.0113 || KL_Loss: 1.9051 || Val_MSE:0.0128 || time 4.4403\n",
      "epoch: 39 || Training Loss:9.3551 || MSE:0.0113 || KL_Loss: 1.8794 || Val_MSE:0.0122 || time 5.3139\n",
      "epoch: 40 || Training Loss:9.4403 || MSE:0.0114 || KL_Loss: 1.9343 || Val_MSE:0.0130 || time 5.1395\n",
      "epoch: 41 || Training Loss:9.8538 || MSE:0.0119 || KL_Loss: 1.9668 || Val_MSE:0.0124 || time 4.8231\n",
      "epoch: 42 || Training Loss:9.0852 || MSE:0.0108 || KL_Loss: 1.9853 || Val_MSE:0.0126 || time 5.2627\n",
      "epoch: 43 || Training Loss:9.6841 || MSE:0.0117 || KL_Loss: 1.9480 || Val_MSE:0.0124 || time 5.0457\n",
      "epoch: 44 || Training Loss:9.2423 || MSE:0.0110 || KL_Loss: 1.9874 || Val_MSE:0.0125 || time 4.6798\n",
      "epoch: 45 || Training Loss:10.0082 || MSE:0.0121 || KL_Loss: 2.0026 || Val_MSE:0.0124 || time 5.0799\n",
      "epoch: 46 || Training Loss:9.9104 || MSE:0.0120 || KL_Loss: 2.0064 || Val_MSE:0.0118 || time 4.8071\n",
      "epoch: 47 || Training Loss:9.5204 || MSE:0.0114 || KL_Loss: 2.0276 || Val_MSE:0.0128 || time 4.9608\n",
      "epoch: 48 || Training Loss:9.6363 || MSE:0.0115 || KL_Loss: 2.0531 || Val_MSE:0.0124 || time 5.1914\n",
      "epoch: 49 || Training Loss:9.7729 || MSE:0.0118 || KL_Loss: 2.0115 || Val_MSE:0.0120 || time 5.0298\n",
      "epoch: 50 || Training Loss:10.2112 || MSE:0.0124 || KL_Loss: 2.0421 || Val_MSE:0.0128 || time 5.1292\n",
      "epoch: 51 || Training Loss:9.2271 || MSE:0.0110 || KL_Loss: 1.9524 || Val_MSE:0.0122 || time 5.1086\n",
      "epoch: 52 || Training Loss:9.4136 || MSE:0.0113 || KL_Loss: 1.9531 || Val_MSE:0.0117 || time 4.6697\n",
      "epoch: 53 || Training Loss:9.4786 || MSE:0.0114 || KL_Loss: 1.9569 || Val_MSE:0.0123 || time 5.2336\n",
      "epoch: 54 || Training Loss:9.3834 || MSE:0.0111 || KL_Loss: 2.0384 || Val_MSE:0.0123 || time 5.0082\n",
      "epoch: 55 || Training Loss:9.3044 || MSE:0.0111 || KL_Loss: 2.0030 || Val_MSE:0.0124 || time 4.6245\n",
      "epoch: 56 || Training Loss:10.3327 || MSE:0.0125 || KL_Loss: 2.0736 || Val_MSE:0.0126 || time 4.9464\n",
      "epoch: 57 || Training Loss:9.3743 || MSE:0.0113 || KL_Loss: 1.9330 || Val_MSE:0.0122 || time 5.2628\n",
      "epoch: 58 || Training Loss:9.1836 || MSE:0.0109 || KL_Loss: 2.0165 || Val_MSE:0.0122 || time 4.6289\n",
      "epoch: 59 || Training Loss:9.8714 || MSE:0.0119 || KL_Loss: 2.0346 || Val_MSE:0.0129 || time 4.6604\n",
      "epoch: 60 || Training Loss:9.4288 || MSE:0.0113 || KL_Loss: 1.9391 || Val_MSE:0.0120 || time 5.5746\n"
     ]
    }
   ],
   "source": [
    "training_loss_list = []\n",
    "mse_loss_list = []\n",
    "kl_loss_list = []\n",
    "val_mse_list = []\n",
    "\n",
    "\n",
    "def train(train_dataset,val_dataset = None, epochs = 50):\n",
    "  for epoch in range(epochs):\n",
    "    epoch_loss = []\n",
    "    epoch_mse_loss = []\n",
    "    epoch_kl_loss = []\n",
    "    epoch_val_loss=[]\n",
    "    \n",
    "    start = time.time()\n",
    "    for image_batch in train_dataset:\n",
    "      loss,MSE,KLE = train_step(image_batch)\n",
    "      epoch_loss.append(np.mean(loss))\n",
    "      epoch_mse_loss.append(np.mean(MSE))\n",
    "      epoch_kl_loss.append(np.mean(KLE))\n",
    "\n",
    "    \n",
    "    if val_dataset:\n",
    "      for image_batch in val_dataset:\n",
    "        val_mse =np.mean(val_step(image_batch))\n",
    "        epoch_val_loss.append(val_mse)\n",
    "      epoch_val_loss = np.mean(epoch_val_loss)\n",
    "\n",
    "\n",
    "    \n",
    "    epoch_loss = np.mean(epoch_loss)\n",
    "    epoch_mse_loss = np.mean(epoch_mse_loss)\n",
    "    epoch_kl_loss = np.mean(epoch_kl_loss)\n",
    "    \n",
    "    training_loss_list.append(epoch_loss)\n",
    "    mse_loss_list.append(epoch_mse_loss)\n",
    "    kl_loss_list.append(epoch_kl_loss)\n",
    "    val_mse_list.append(epoch_val_loss)\n",
    "    \n",
    "    print(f'epoch: {epoch+1} || Training Loss:{epoch_loss:.4f} || MSE:{epoch_mse_loss:.4f} || KL_Loss: {epoch_kl_loss:.4f} || Val_MSE:{epoch_val_loss:.4f} || time {time.time()-start:.4f}')\n",
    "   \n",
    "  \n",
    "#train for 120 epochs \n",
    "train(normalized_train_ds, val_dataset = normalized_val_ds, epochs = 60)"
   ]
  },
  {
   "cell_type": "markdown",
   "metadata": {},
   "source": [
    "<b>VISUALIZE PERFORMANCE OF THE VAE</b>"
   ]
  },
  {
   "cell_type": "code",
   "execution_count": 78,
   "metadata": {},
   "outputs": [
    {
     "data": {
      "image/png": "[encoded data removed]",
      "text/plain": [
       "<Figure size 640x480 with 4 Axes>"
      ]
     },
     "metadata": {},
     "output_type": "display_data"
    }
   ],
   "source": [
    "num_of_epochs = 60\n",
    "fig, axs = plt.subplots(2, 2)\n",
    "axs[0, 0].plot(range(1,num_of_epochs+1), training_loss_list,'r')\n",
    "axs[0, 0].set_title(\"Training Loss/Epoch\")\n",
    "axs[1, 0].plot(range(1,num_of_epochs+1), mse_loss_list,'b')\n",
    "axs[1, 0].set_title(\"MSE/Epoch\")\n",
    "\n",
    "axs[0, 1].plot(range(1,num_of_epochs+1), kl_loss_list,'g')\n",
    "axs[0, 1].set_title(\"KLD Loss/Epoch\")\n",
    "axs[1, 1].plot(range(1,num_of_epochs+1), val_mse_list,'y')\n",
    "axs[1, 1].set_title(\"Validation Data MSE/Epoch\")\n",
    "fig.suptitle('Visualizing Losses During Training')\n",
    "fig.tight_layout();"
   ]
  },
  {
   "cell_type": "code",
   "execution_count": 67,
   "metadata": {
    "colab": {
     "base_uri": "https://localhost:8080/",
     "height": 282
    },
    "id": "bNuKcmV56OEl",
    "outputId": "7d35c750-d757-4a2d-a25d-b5cdea0aa048"
   },
   "outputs": [
    {
     "name": "stdout",
     "output_type": "stream",
     "text": [
      "1/1 [==============================] - 1s 571ms/step\n",
      "1/1 [==============================] - 1s 589ms/step\n"
     ]
    },
    {
     "data": {
      "image/png": "[encoded data removed]",
      "text/plain": [
       "<Figure size 640x480 with 2 Axes>"
      ]
     },
     "metadata": {},
     "output_type": "display_data"
    }
   ],
   "source": [
    "sample_img_1 = 'D:\\\\Documents\\\\DATA_SET_FOR_RELEASE\\\\renamed\\\\all_train\\\\5\\\\I359_Steel---HHA_abrasive-blasted_zirconium-pretreatment_MIL-DTL-53022_MIL-DTL-53039.jpg'\n",
    "img_1 = plt.imread(sample_img_1)\n",
    "\n",
    "sample = tf.keras.Sequential([layers.Resizing(28,28, input_shape = (512,512,3)),\n",
    "                              layers.Rescaling(scale= 1./255)])\n",
    "                             \n",
    "sample_1 = sample(np.expand_dims(img_1, axis = 0)).numpy()\n",
    "\n",
    "m, v = enc.predict(sample_1)\n",
    "latent = sampler([m,v])\n",
    "\n",
    "reconst = dec.predict(latent)\n",
    "reconst = np.reshape(reconst,(28,28,3))\n",
    "\n",
    "fig, (axs_1,axs_2) = plt.subplots(1, 2, sharey='row')\n",
    "axs_1.imshow(np.squeeze(sample_1))\n",
    "axs_1.set_title(\"Sample Image\")\n",
    "\n",
    "axs_2.imshow(reconst)\n",
    "axs_2.set_title(\"Regenerated Image\")\n",
    "fig.suptitle('Visualizing the Image from the decoder')\n",
    "fig.tight_layout();"
   ]
  },
  {
   "cell_type": "markdown",
   "metadata": {},
   "source": [
    "<b>TRAINING THE CLASSIFIERS</b>"
   ]
  },
  {
   "cell_type": "code",
   "execution_count": 28,
   "metadata": {},
   "outputs": [],
   "source": [
    "import os\n",
    "from PIL import Image\n",
    "\n",
    "from sklearn.preprocessing import LabelEncoder\n",
    "from sklearn.model_selection import train_test_split\n",
    "from sklearn.model_selection import RepeatedStratifiedKFold\n",
    "from skopt import BayesSearchCV\n",
    "from skopt.space import Categorical, Integer, Real\n",
    "from sklearn.metrics import accuracy_score\n",
    "\n",
    "\n",
    "from sklearn.tree import DecisionTreeClassifier\n",
    "from sklearn.svm import SVC\n",
    "from sklearn.neighbors import KNeighborsClassifier\n",
    "from sklearn.linear_model import LogisticRegression\n",
    "from sklearn.ensemble import VotingClassifier\n",
    "from sklearn.ensemble import RandomForestClassifier\n",
    "import xgboost\n",
    "\n",
    "import warnings\n",
    "\n",
    "\n",
    "warnings.filterwarnings('ignore')\n",
    "cv = RepeatedStratifiedKFold(n_splits=10, n_repeats=3, random_state=1)"
   ]
  },
  {
   "cell_type": "markdown",
   "metadata": {},
   "source": [
    "<b>PREPROCESSING THE DATASET FOR THE CLASSIFIERS</b>"
   ]
  },
  {
   "cell_type": "code",
   "execution_count": 29,
   "metadata": {
    "colab": {
     "base_uri": "https://localhost:8080/",
     "height": 206
    },
    "id": "P7Q5SdNoJ-Uu",
    "outputId": "88e02cff-64f8-4665-d1c1-a93a2e012282"
   },
   "outputs": [
    {
     "data": {
      "text/html": [
       "<div>\n",
       "<style scoped>\n",
       "    .dataframe tbody tr th:only-of-type {\n",
       "        vertical-align: middle;\n",
       "    }\n",
       "\n",
       "    .dataframe tbody tr th {\n",
       "        vertical-align: top;\n",
       "    }\n",
       "\n",
       "    .dataframe thead th {\n",
       "        text-align: right;\n",
       "    }\n",
       "</style>\n",
       "<table border=\"1\" class=\"dataframe\">\n",
       "  <thead>\n",
       "    <tr style=\"text-align: right;\">\n",
       "      <th></th>\n",
       "      <th>image</th>\n",
       "      <th>label</th>\n",
       "    </tr>\n",
       "  </thead>\n",
       "  <tbody>\n",
       "    <tr>\n",
       "      <th>0</th>\n",
       "      <td>[[[250, 255, 246], [239, 245, 235], [246, 247,...</td>\n",
       "      <td>5</td>\n",
       "    </tr>\n",
       "    <tr>\n",
       "      <th>1</th>\n",
       "      <td>[[[244, 255, 241], [243, 249, 235], [247, 241,...</td>\n",
       "      <td>5</td>\n",
       "    </tr>\n",
       "    <tr>\n",
       "      <th>2</th>\n",
       "      <td>[[[255, 249, 231], [248, 240, 221], [255, 243,...</td>\n",
       "      <td>5</td>\n",
       "    </tr>\n",
       "    <tr>\n",
       "      <th>3</th>\n",
       "      <td>[[[253, 255, 247], [241, 247, 237], [244, 250,...</td>\n",
       "      <td>5</td>\n",
       "    </tr>\n",
       "    <tr>\n",
       "      <th>4</th>\n",
       "      <td>[[[255, 242, 222], [246, 229, 211], [244, 230,...</td>\n",
       "      <td>5</td>\n",
       "    </tr>\n",
       "    <tr>\n",
       "      <th>5</th>\n",
       "      <td>[[[255, 255, 250], [18, 17, 12], [18, 17, 13],...</td>\n",
       "      <td>5</td>\n",
       "    </tr>\n",
       "    <tr>\n",
       "      <th>6</th>\n",
       "      <td>[[[255, 252, 249], [250, 247, 242], [255, 250,...</td>\n",
       "      <td>5</td>\n",
       "    </tr>\n",
       "    <tr>\n",
       "      <th>7</th>\n",
       "      <td>[[[255, 255, 246], [243, 239, 230], [245, 238,...</td>\n",
       "      <td>5</td>\n",
       "    </tr>\n",
       "    <tr>\n",
       "      <th>8</th>\n",
       "      <td>[[[255, 249, 232], [251, 244, 228], [247, 245,...</td>\n",
       "      <td>5</td>\n",
       "    </tr>\n",
       "    <tr>\n",
       "      <th>9</th>\n",
       "      <td>[[[249, 255, 238], [242, 246, 229], [244, 240,...</td>\n",
       "      <td>5</td>\n",
       "    </tr>\n",
       "  </tbody>\n",
       "</table>\n",
       "</div>"
      ],
      "text/plain": [
       "                                               image label\n",
       "0  [[[250, 255, 246], [239, 245, 235], [246, 247,...     5\n",
       "1  [[[244, 255, 241], [243, 249, 235], [247, 241,...     5\n",
       "2  [[[255, 249, 231], [248, 240, 221], [255, 243,...     5\n",
       "3  [[[253, 255, 247], [241, 247, 237], [244, 250,...     5\n",
       "4  [[[255, 242, 222], [246, 229, 211], [244, 230,...     5\n",
       "5  [[[255, 255, 250], [18, 17, 12], [18, 17, 13],...     5\n",
       "6  [[[255, 252, 249], [250, 247, 242], [255, 250,...     5\n",
       "7  [[[255, 255, 246], [243, 239, 230], [245, 238,...     5\n",
       "8  [[[255, 249, 232], [251, 244, 228], [247, 245,...     5\n",
       "9  [[[249, 255, 238], [242, 246, 229], [244, 240,...     5"
      ]
     },
     "execution_count": 29,
     "metadata": {},
     "output_type": "execute_result"
    }
   ],
   "source": [
    "\n",
    "root_Dir = 'D:\\\\Documents\\\\DATA_SET_FOR_RELEASE\\\\renamed\\\\all_train'\n",
    "\n",
    "#Create an empty dataframe\n",
    "df = pd.DataFrame(columns=['image', 'label'])\n",
    "#Iterate over the sub directories within the root directory\n",
    "for dirs, subdirs, files in os.walk(root_Dir):\n",
    "  for file in files:\n",
    "    file_path = os.path.join(dirs, file)\n",
    "    \n",
    "    #load the image\n",
    "    with Image.open(file_path) as img:\n",
    "      #convert image to numpy array\n",
    "      img_array = np.array(img)\n",
    "      #Extract the label\n",
    "      label = os.path.basename(dirs)\n",
    "      #Add the image and label to the dataframe\n",
    "      df = df.append({'image':img_array, 'label':label}, ignore_index = True)\n",
    "# df = df.sample(frac = 1).reset_index(drop = True)\n",
    "df.head(10)"
   ]
  },
  {
   "cell_type": "code",
   "execution_count": 30,
   "metadata": {
    "colab": {
     "base_uri": "https://localhost:8080/"
    },
    "id": "pluq2yLgJ-RV",
    "outputId": "d77cff48-dc94-4729-80a8-d0f6494ab2d9"
   },
   "outputs": [
    {
     "name": "stdout",
     "output_type": "stream",
     "text": [
      "17/17 [==============================] - 1s 24ms/step\n",
      "17/17 [==============================] - 0s 21ms/step\n"
     ]
    }
   ],
   "source": [
    "y = df['label']\n",
    "X = df['image'].values\n",
    "X = np.stack(X)\n",
    "\n",
    "preprocessing_model = tf.keras.Sequential()\n",
    "preprocessing_model.add(tf.keras.Input(shape=(512,512,3)))\n",
    "preprocessing_model.add(tf.keras.layers.Resizing(28,28))\n",
    "preprocessing_model.add(tf.keras.layers.Rescaling(scale= 1./255))\n",
    "X1 = preprocessing_model.predict(X)\n",
    "\n",
    "a,b = enc.predict(X1, batch_size=batch_size)\n"
   ]
  },
  {
   "cell_type": "markdown",
   "metadata": {},
   "source": [
    "<b>DECISION TREE CLASSIFIER</b>"
   ]
  },
  {
   "cell_type": "code",
   "execution_count": 31,
   "metadata": {
    "colab": {
     "base_uri": "https://localhost:8080/"
    },
    "id": "a8vGiIY153aJ",
    "outputId": "fa0478a6-9e06-48e4-8296-cea30f5fd73b"
   },
   "outputs": [
    {
     "name": "stdout",
     "output_type": "stream",
     "text": [
      "Accuracy Score:  0.5555555555555556\n"
     ]
    }
   ],
   "source": [
    "LE = LabelEncoder()\n",
    "X_train, X_test, y_train_raw, y_test_raw = train_test_split(a, y, test_size=0.2, random_state=42)\n",
    "y_train = LE.fit_transform(y_train_raw)\n",
    "y_test = LE.transform(y_test_raw)\n",
    "DT = DecisionTreeClassifier(max_leaf_nodes=5)\n",
    "DT.fit(X_train, y_train)\n",
    "DT_y_pred = DT.predict(X_test)\n",
    "\n",
    "print('Accuracy Score: ', accuracy_score(y_test, DT_y_pred))"
   ]
  },
  {
   "cell_type": "markdown",
   "metadata": {},
   "source": [
    "<b>RANDOM FOREST CLASSIFIER</b>"
   ]
  },
  {
   "cell_type": "code",
   "execution_count": 16,
   "metadata": {},
   "outputs": [
    {
     "name": "stdout",
     "output_type": "stream",
     "text": [
      "Accuracy Score:  0.5555555555555556\n"
     ]
    }
   ],
   "source": [
    "RF_search_space = {\"bootstrap\": Categorical([True, False]), # values for boostrap can be either True or False\n",
    "        \"max_depth\": Integer(6, 10), # values of max_depth are integers from 6 to 20\n",
    "        \"max_features\": Categorical(['auto']), \n",
    "        \"min_samples_leaf\": Integer(2, 8),\n",
    "        \"min_samples_split\": Integer(2, 5),\n",
    "        \"n_estimators\": Integer(350, 500)\n",
    "    }\n",
    "RF = RandomForestClassifier()\n",
    "RF_bayes_search = BayesSearchCV(RF, RF_search_space, n_iter=50, # specify how many iterations\n",
    "                                    scoring=\"accuracy\", n_jobs=-1, cv=5)\n",
    "RF_bayes_search.fit(X_train, y_train) \n",
    "RF_y_pred = RF_bayes_search.predict(X_test)\n",
    "\n",
    "print('Accuracy Score: ',accuracy_score(y_test, RF_y_pred))\n"
   ]
  },
  {
   "cell_type": "markdown",
   "metadata": {},
   "source": [
    "<b>SUPPORT VECTOR CLASSIFIER</b>"
   ]
  },
  {
   "cell_type": "code",
   "execution_count": null,
   "metadata": {},
   "outputs": [],
   "source": [
    "SVM = SVC()\n",
    "SVM_search_space = {'C':Real(0.01,2),\n",
    "                    'kernel':Categorical(['linear','rbf'])}\n",
    "SVM_bayes_search = BayesSearchCV(SVM, SVM_search_space, n_iter = 50, n_jobs = -1, cv = cv,\n",
    "                                scoring = 'accuracy')\n",
    "SVM_bayes_search.fit(X_train, y_train)\n",
    "\n",
    "SVM_y_pred = SVM_bayes_search.predict(X_test)\n",
    "\n",
    "print('Accuracy Score: ',accuracy_score(y_test, SVM_y_pred))"
   ]
  },
  {
   "cell_type": "markdown",
   "metadata": {},
   "source": [
    "<b>NEAREST NEIGHBORS CLASSIFIER</b>"
   ]
  },
  {
   "cell_type": "code",
   "execution_count": null,
   "metadata": {},
   "outputs": [],
   "source": [
    "\n",
    "KNN = KNeighborsClassifier()\n",
    "KNN_search_space = {'n_neighbors':Integer(37,39),\n",
    "                  }\n",
    "KNN_bayes_search = BayesSearchCV(KNN, KNN_search_space, n_iter = 50, n_jobs = -1, cv = cv, \n",
    "                                scoring ='accuracy')\n",
    "KNN_bayes_search.fit(X_train, y_train)\n",
    "KNN_y_pred = KNN_bayes_search.predict(X_test)\n",
    "\n",
    "print('Accuracy Score: ',accuracy_score(y_test, KNN_y_pred))"
   ]
  },
  {
   "cell_type": "markdown",
   "metadata": {},
   "source": [
    "<b>LOGISTIC REGRESSION CLASSIFIER</b>"
   ]
  },
  {
   "cell_type": "code",
   "execution_count": null,
   "metadata": {},
   "outputs": [],
   "source": [
    "\n",
    "LR = LogisticRegression()\n",
    "LR_search_space = {'C':Real(0.01,1),\n",
    "                    'penalty':Categorical(['l2','none']),\n",
    "                    'max_iter':Integer(50,150),\n",
    "                    'l1_ratio': Real(0,1)}\n",
    "LR_bayes_search = BayesSearchCV(LR, LR_search_space, n_iter = 50, n_jobs = -1, cv = 5,\n",
    "                                scoring = 'accuracy')\n",
    "LR_bayes_search.fit(X_train, y_train)\n",
    "\n",
    "LR_y_pred = LR_bayes_search.predict(X_test)\n",
    "\n",
    "print('Accuracy Score: ',accuracy_score(y_test,LR_y_pred))\n"
   ]
  },
  {
   "cell_type": "markdown",
   "metadata": {},
   "source": [
    "<b>EXTREME GRADIENT BOOST CLASSIFIER</b>"
   ]
  },
  {
   "cell_type": "code",
   "execution_count": 32,
   "metadata": {},
   "outputs": [
    {
     "name": "stdout",
     "output_type": "stream",
     "text": [
      "Accuracy Score:  0.5833333333333334\n"
     ]
    }
   ],
   "source": [
    "\n",
    "LE = LabelEncoder()\n",
    "xgb_y_train = LE.fit_transform(y_train)\n",
    "xgb_y_test = LE.transform(y_test)\n",
    "XGB = xgboost.XGBClassifier()\n",
    "\n",
    "XGB_search_space = {\n",
    "                   'max_depth':Integer(3,10),\n",
    "                    'n_estimators':Integer(50,800)\n",
    "                   }\n",
    "XGB_bayes_search = BayesSearchCV(XGB, XGB_search_space, n_iter = 50, n_jobs = -1, cv = 5,\n",
    "                                scoring = 'accuracy')\n",
    "XGB_bayes_search.fit(X_train,y_train)\n",
    "\n",
    "XGB_y_pred  = XGB_bayes_search.predict(X_test)\n",
    "\n",
    "print('Accuracy Score: ',accuracy_score(y_test,XGB_y_pred ))"
   ]
  },
  {
   "cell_type": "markdown",
   "metadata": {},
   "source": [
    "<b>VOTING CLASSIFIER</b>"
   ]
  },
  {
   "cell_type": "code",
   "execution_count": null,
   "metadata": {},
   "outputs": [],
   "source": [
    "\n",
    "RF_params = dict(RF_bayes_search.best_params_)\n",
    "KNN_params = dict(KNN_bayes_search.best_params_)\n",
    "SVM_params = dict(SVM_bayes_search.best_params_)\n",
    "LR_params = dict(LR_bayes_search.best_params_)\n",
    "XGB_params = dict(XGB_bayes_search.best_params_)\n",
    "\n",
    "\n",
    "estimator = []\n",
    "\n",
    "estimator.append(('RF', RandomForestClassifier(bootstrap=RF_params['bootstrap'],\n",
    "                                                max_depth=RF_params['max_depth'],\n",
    "                                                max_features=RF_params['max_features'],\n",
    "                                                min_samples_leaf = RF_params['min_samples_leaf'],\n",
    "                                                min_samples_split=RF_params['min_samples_split'],\n",
    "                                                n_estimators =  RF_params['n_estimators'])))\n",
    "\n",
    "estimator.append(('SVM', SVC(C=SVM_params['C'],\n",
    "                             kernel=SVM_params['kernel'],\n",
    "                            probability=True)))\n",
    "\n",
    "estimator.append(('KNN', KNeighborsClassifier(n_neighbors=KNN_params['n_neighbors'])))\n",
    "\n",
    "estimator.append(('LR', LogisticRegression(C=LR_params['C'],\n",
    "                                           l1_ratio=LR_params['l1_ratio'],\n",
    "                                           max_iter=LR_params['max_iter'],\n",
    "                                           penalty = LR_params['penalty'])))\n",
    "estimator.append(('XGB', xgboost.XGBClassifier(max_depth=XGB_params['max_depth'],\n",
    "                                              n_estimators = XGB_params['n_estimators'],\n",
    "                                              objective='multi: softprob')))\n",
    "\n",
    "VC_hard = VotingClassifier(estimators = estimator, voting = 'hard')\n",
    "VC_soft = VotingClassifier(estimators = estimator, voting = 'soft')\n",
    "\n",
    "VC_hard.fit(X_train, y_train)\n",
    "VC_soft.fit(X_train, y_train)\n",
    "\n",
    "VC_hard_pred = VC_hard.predict(X_test)\n",
    "VC_soft_pred = VC_soft.predict(X_test)\n",
    "\n",
    "print(f'VC_hard_accuracy: {accuracy_score(y_test,VC_hard_pred)}')\n",
    "print(f'VC_soft_accuracy: {accuracy_score(y_test,VC_soft_pred)}')"
   ]
  },
  {
   "cell_type": "markdown",
   "metadata": {},
   "source": [
    "<b>RESULT FROM HYPER PARAMETER SEARCH</b>"
   ]
  },
  {
   "cell_type": "code",
   "execution_count": null,
   "metadata": {},
   "outputs": [],
   "source": [
    "print('RF Hyper-parameters:', dict(RF_bayes_search.best_params_))\n",
    "print('\\n\\nSVM Hyper-parameters:', dict(SVM_bayes_search.best_params_))\n",
    "print('\\n\\nKNN Hyper-parameters:', dict(KNN_bayes_search.best_params_))\n",
    "print('\\n\\nLR Hyper-parameters:', dict(LR_bayes_search.best_params_))\n",
    "print('\\n\\nXGB Hyper-parameters:', dict(XGB_bayes_search.best_params_))"
   ]
  }
 ],
 "metadata": {
  "accelerator": "GPU",
  "colab": {
   "provenance": []
  },
  "gpuClass": "standard",
  "kernelspec": {
   "display_name": "Python 3 (ipykernel)",
   "language": "python",
   "name": "python3"
  },
  "language_info": {
   "codemirror_mode": {
    "name": "ipython",
    "version": 3
   },
   "file_extension": ".py",
   "mimetype": "text/x-python",
   "name": "python",
   "nbconvert_exporter": "python",
   "pygments_lexer": "ipython3",
   "version": "3.9.12"
  }
 },
 "nbformat": 4,
 "nbformat_minor": 1
}
