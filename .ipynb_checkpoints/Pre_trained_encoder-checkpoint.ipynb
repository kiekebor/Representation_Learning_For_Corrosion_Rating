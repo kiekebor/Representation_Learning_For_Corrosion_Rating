{
 "cells": [
  {
   "cell_type": "code",
   "execution_count": 1,
   "id": "99575a21",
   "metadata": {},
   "outputs": [],
   "source": [
    "import tensorflow as tf\n",
    "from tensorflow.keras import layers\n",
    "import numpy as np\n",
    "import pandas as pd\n",
    "from tensorflow import keras \n",
    "import time\n",
    "import matplotlib.pyplot as plt"
   ]
  },
  {
   "cell_type": "markdown",
   "id": "c60e67a1",
   "metadata": {},
   "source": [
    "<b>LOADING AND PREPROCESSING THE DATASET</b>"
   ]
  },
  {
   "cell_type": "code",
   "execution_count": 2,
   "id": "f122a4f4",
   "metadata": {},
   "outputs": [
    {
     "name": "stdout",
     "output_type": "stream",
     "text": [
      "Found 540 files belonging to 1 classes.\n",
      "Using 486 files for training.\n",
      "Using 54 files for validation.\n"
     ]
    }
   ],
   "source": [
    "batch_size = 32\n",
    "image_size = (28,28)\n",
    "root_dir = 'D:\\\\Documents\\\\DATA_SET_FOR_RELEASE\\\\renamed\\\\all_train'\n",
    "train_ds, val_ds = tf.keras.preprocessing.image_dataset_from_directory(root_dir,\n",
    "  image_size=image_size,\n",
    "  batch_size=batch_size,\n",
    "  label_mode=None,\n",
    "  validation_split=0.1,\n",
    "  subset = 'both',\n",
    "  seed = 45)\n",
    "\n",
    "\n",
    " \n",
    "normalization_layer = layers.Rescaling(scale= 1./255) \n",
    " \n",
    "normalized_train_ds = train_ds.map(lambda x: normalization_layer(x))\n",
    "normalized_val_ds = val_ds.map(lambda x: normalization_layer(x))"
   ]
  },
  {
   "cell_type": "markdown",
   "id": "ca12f410",
   "metadata": {},
   "source": [
    "  <b>DEFINE SAMPLING TECHNIQUE FOR THE LATENT SPACE</b>"
   ]
  },
  {
   "cell_type": "code",
   "execution_count": 3,
   "id": "12b47975",
   "metadata": {},
   "outputs": [],
   "source": [
    "\n",
    "#sampling_reparameterization function--- Function for generating samples\n",
    "def sampling_reparameterization(distribution_params):\n",
    "    mean, log_var = distribution_params\n",
    "    epsilon = tf.keras.backend.random_normal(shape=tf.keras.backend.shape(mean), mean=0., stddev=1.)\n",
    "    z = mean + tf.keras.backend.exp(log_var / 2) * epsilon\n",
    "    \n",
    "    return z"
   ]
  },
  {
   "cell_type": "code",
   "execution_count": 4,
   "id": "755082fd",
   "metadata": {},
   "outputs": [],
   "source": [
    "#the sampling network\n",
    "latent_dim = 10 #dimension of the latent space\n",
    "def sampling(input_1,input_2):\n",
    "    mean = keras.Input(shape=input_1, name='input_layer1')\n",
    "    log_var = keras.Input(shape=input_2, name='input_layer2')\n",
    "    out = layers.Lambda(sampling_reparameterization, name='encoder_output')([mean, log_var])\n",
    "    enc_2 = tf.keras.Model([mean,log_var], out,  name=\"Encoder_2\")\n",
    "    \n",
    "    return enc_2\n",
    "sampler = sampling(latent_dim, latent_dim)\n",
    "    "
   ]
  },
  {
   "cell_type": "markdown",
   "id": "f10b32ef",
   "metadata": {},
   "source": [
    "<b>DEFINE LOSS FUNCTION AND OPTIMIZER FOR TRAINING</b>"
   ]
  },
  {
   "cell_type": "code",
   "execution_count": 5,
   "id": "71c4509d",
   "metadata": {},
   "outputs": [],
   "source": [
    "#Define the initial learning rate and the decay rate\n",
    "initial_learning_rate = 0.0008\n",
    "decay_steps = 400\n",
    "decay_rate = 0.8\n",
    "staircase = True\n",
    "\n",
    "# Create the learning rate schedule\n",
    "learning_rate_fn = tf.keras.optimizers.schedules.ExponentialDecay(initial_learning_rate,decay_steps, decay_rate, staircase=staircase)\n",
    "\n",
    "# Define the optimizer\n",
    "optimizer_1 = tf.optimizers.Adam(learning_rate=learning_rate_fn)\n",
    "optimizer_2 = tf.optimizers.Adam(learning_rate=learning_rate_fn)\n",
    "\n",
    "#Define scaling factor for loss functions\n",
    "beta = 1000\n",
    " \n",
    "def mse_loss(y_true, y_pred):\n",
    "    r_loss = tf.keras.backend.mean(tf.keras.backend.square(y_true - y_pred), axis = [1,2,3])\n",
    "    return r_loss\n",
    " \n",
    "def kl_loss(mean, log_var):\n",
    "    kl_loss =  -0.5 * tf.keras.backend.sum(1 + log_var - tf.keras.backend.square(mean) - tf.keras.backend.exp(log_var), axis = 1)\n",
    "    return kl_loss\n",
    " \n",
    "def vae_loss(y_true, y_pred, mean, log_var):\n",
    "    r_loss = mse_loss(y_true, y_pred)\n",
    "    KL_loss = kl_loss(mean, log_var)\n",
    "    training_loss = (beta*r_loss) + KL_loss\n",
    "    \n",
    "    return training_loss\n"
   ]
  },
  {
   "cell_type": "markdown",
   "id": "9a1aa1f5",
   "metadata": {},
   "source": [
    " <b>BUILDING THE ENCODER</b>"
   ]
  },
  {
   "cell_type": "code",
   "execution_count": 6,
   "id": "c635be91",
   "metadata": {},
   "outputs": [
    {
     "name": "stdout",
     "output_type": "stream",
     "text": [
      "Model: \"Encoder\"\n",
      "__________________________________________________________________________________________________\n",
      " Layer (type)                   Output Shape         Param #     Connected to                     \n",
      "==================================================================================================\n",
      " input_layer (InputLayer)       [(None, 28, 28, 3)]  0           []                               \n",
      "                                                                                                  \n",
      " resizing (Resizing)            (None, 32, 32, 3)    0           ['input_layer[0][0]']            \n",
      "                                                                                                  \n",
      " resnet50v2 (Functional)        (None, 1, 1, 2048)   23564800    ['resizing[0][0]']               \n",
      "                                                                                                  \n",
      " global_average_pooling2d (Glob  (None, 2048)        0           ['resnet50v2[0][0]']             \n",
      " alAveragePooling2D)                                                                              \n",
      "                                                                                                  \n",
      " dense (Dense)                  (None, 10)           20490       ['global_average_pooling2d[0][0]'\n",
      "                                                                 ]                                \n",
      "                                                                                                  \n",
      " dense_1 (Dense)                (None, 10)           20490       ['global_average_pooling2d[0][0]'\n",
      "                                                                 ]                                \n",
      "                                                                                                  \n",
      "==================================================================================================\n",
      "Total params: 23,605,780\n",
      "Trainable params: 40,980\n",
      "Non-trainable params: 23,564,800\n",
      "__________________________________________________________________________________________________\n"
     ]
    }
   ],
   "source": [
    "#build the encoder\n",
    "def encoder(input_encoder):\n",
    "    inputs = keras.Input(shape=input_encoder, name='input_layer')\n",
    "    reshape = keras.layers.Resizing(32,32)(inputs)\n",
    "    base_model = keras.applications.ResNet50V2(weights='imagenet',  # Load weights pre-trained on ImageNet.\n",
    "                                             input_shape=(32,32,3),\n",
    "                                             include_top=False)\n",
    "    base_model.trainable = False\n",
    "    \n",
    "    x = base_model(reshape, training=False)\n",
    "    x = keras.layers.GlobalAveragePooling2D()(x)\n",
    "    mean = keras.layers.Dense(10)(x)\n",
    "    log_var = keras.layers.Dense(10)(x)\n",
    "    model = keras.Model(inputs,(mean, log_var), name = 'Encoder')\n",
    "    \n",
    "    return model\n",
    "\n",
    "enc = encoder((*image_size,3))\n",
    "enc.summary()"
   ]
  },
  {
   "cell_type": "markdown",
   "id": "b769fa97",
   "metadata": {},
   "source": [
    " <b>BUILDING THE DECODER</b>"
   ]
  },
  {
   "cell_type": "code",
   "execution_count": 7,
   "id": "2fbe5502",
   "metadata": {},
   "outputs": [
    {
     "name": "stdout",
     "output_type": "stream",
     "text": [
      "Model: \"Decoder\"\n",
      "_________________________________________________________________\n",
      " Layer (type)                Output Shape              Param #   \n",
      "=================================================================\n",
      " input_layer (InputLayer)    [(None, 10)]              0         \n",
      "                                                                 \n",
      " dense_1 (Dense)             (None, 100)               1100      \n",
      "                                                                 \n",
      " lrelu_A (LeakyReLU)         (None, 100)               0         \n",
      "                                                                 \n",
      " dense_2 (Dense)             (None, 600)               60600     \n",
      "                                                                 \n",
      " lrelu_B (LeakyReLU)         (None, 600)               0         \n",
      "                                                                 \n",
      " dense_3 (Dense)             (None, 3136)              1884736   \n",
      "                                                                 \n",
      " lrelu_C (LeakyReLU)         (None, 3136)              0         \n",
      "                                                                 \n",
      " Reshape (Reshape)           (None, 7, 7, 64)          0         \n",
      "                                                                 \n",
      " conv_transpose_1 (Conv2DTra  (None, 7, 7, 64)         36928     \n",
      " nspose)                                                         \n",
      "                                                                 \n",
      " bn_A (BatchNormalization)   (None, 7, 7, 64)          256       \n",
      "                                                                 \n",
      " lrelu_D (LeakyReLU)         (None, 7, 7, 64)          0         \n",
      "                                                                 \n",
      " conv_transpose_2 (Conv2DTra  (None, 14, 14, 64)       36928     \n",
      " nspose)                                                         \n",
      "                                                                 \n",
      " bn_B (BatchNormalization)   (None, 14, 14, 64)        256       \n",
      "                                                                 \n",
      " lrelu_E (LeakyReLU)         (None, 14, 14, 64)        0         \n",
      "                                                                 \n",
      " conv_transpose_3 (Conv2DTra  (None, 28, 28, 64)       36928     \n",
      " nspose)                                                         \n",
      "                                                                 \n",
      " bn_C (BatchNormalization)   (None, 28, 28, 64)        256       \n",
      "                                                                 \n",
      " lrelu_F (LeakyReLU)         (None, 28, 28, 64)        0         \n",
      "                                                                 \n",
      " conv_transpose_5 (Conv2DTra  (None, 28, 28, 3)        1731      \n",
      " nspose)                                                         \n",
      "                                                                 \n",
      "=================================================================\n",
      "Total params: 2,059,719\n",
      "Trainable params: 2,059,335\n",
      "Non-trainable params: 384\n",
      "_________________________________________________________________\n"
     ]
    }
   ],
   "source": [
    "#build the decoder\n",
    "def decoder(input_decoder):\n",
    "     \n",
    "    inputs = keras.Input(shape=input_decoder, name='input_layer')\n",
    "  \n",
    "    x = layers.Dense(100, name='dense_1')(inputs)\n",
    "    x = layers.LeakyReLU(name='lrelu_A')(x)\n",
    "\n",
    "    x = layers.Dense(600, name='dense_2')(x)\n",
    "    x = layers.LeakyReLU(name='lrelu_B')(x)\n",
    "\n",
    "    x = layers.Dense(3136, name='dense_3')(x)\n",
    "    x = layers.LeakyReLU(name='lrelu_C')(x)\n",
    "    x = layers.Reshape((7,7,64), name='Reshape')(x)\n",
    "     \n",
    "    # Block-1\n",
    "    x = layers.Conv2DTranspose(64, 3, strides= 1, padding='same',name='conv_transpose_1')(x)\n",
    "    x = layers.BatchNormalization(name='bn_A')(x)\n",
    "    x = layers.LeakyReLU(name='lrelu_D')(x)\n",
    "\n",
    "    \n",
    "    # Block-2\n",
    "    x = layers.Conv2DTranspose(64, 3, strides= 2, padding='same', name='conv_transpose_2')(x)\n",
    "    x = layers.BatchNormalization(name='bn_B')(x)\n",
    "    x = layers.LeakyReLU(name='lrelu_E')(x)\n",
    "  \n",
    "  \n",
    "    # Block-3\n",
    "    x = layers.Conv2DTranspose(64, 3, 2, padding='same', name='conv_transpose_3')(x)\n",
    "    x = layers.BatchNormalization(name='bn_C')(x)\n",
    "    x = layers.LeakyReLU(name='lrelu_F')(x)\n",
    "       \n",
    "    # Block-5\n",
    "    outputs = layers.Conv2DTranspose(3, 3, 1,padding='same', activation='sigmoid', name='conv_transpose_5')(x)\n",
    "    model = tf.keras.Model(inputs, outputs, name=\"Decoder\")\n",
    "    return model\n",
    "    print(dec.summary())\n",
    "dec = decoder((latent_dim,))\n",
    "dec.summary()"
   ]
  },
  {
   "cell_type": "markdown",
   "id": "295f65ea",
   "metadata": {},
   "source": [
    " <b>DEFINE CUSTOM TRAINING LOOP</b>"
   ]
  },
  {
   "cell_type": "code",
   "execution_count": 8,
   "id": "a10f65e7",
   "metadata": {},
   "outputs": [],
   "source": [
    "@tf.function\n",
    "def train_step(train_images):\n",
    " \n",
    "    with tf.GradientTape() as encoder, tf.GradientTape() as decoder:\n",
    "       \n",
    "       \n",
    "        mean, log_var = enc(train_images, training=True)\n",
    "        latent = sampler([mean, log_var])\n",
    "        generated_images = dec(latent, training=True)\n",
    "        loss = vae_loss(train_images, generated_images, mean, log_var)\n",
    "        MSE =  mse_loss(train_images, generated_images)\n",
    "        KLE = kl_loss(mean, log_var)\n",
    "\n",
    "         \n",
    "    gradients_of_enc = encoder.gradient(loss, enc.trainable_variables)\n",
    "    gradients_of_dec = decoder.gradient(loss, dec.trainable_variables)\n",
    "     \n",
    "    optimizer_1.apply_gradients(zip(gradients_of_enc, enc.trainable_variables))\n",
    "    optimizer_2.apply_gradients(zip(gradients_of_dec, dec.trainable_variables))\n",
    "    return loss,MSE,KLE\n",
    "\n",
    "\n",
    "def val_step(val_images):\n",
    "  mean, log_var = enc(val_images)\n",
    "  latent = sampler([mean, log_var])\n",
    "  generated_images_val = dec(latent)\n",
    "  val_loss = mse_loss(val_images, generated_images_val)\n",
    "\n",
    "  return val_loss"
   ]
  },
  {
   "cell_type": "code",
   "execution_count": 9,
   "id": "510cb816",
   "metadata": {},
   "outputs": [
    {
     "name": "stdout",
     "output_type": "stream",
     "text": [
      "epoch: 1 || Training Loss:50.4872 || MSE:0.0497 || KL_Loss: 0.8295 || Val_MSE:0.0547 || time 35.8176\n",
      "epoch: 2 || Training Loss:34.3563 || MSE:0.0336 || KL_Loss: 0.7345 || Val_MSE:0.0518 || time 10.7918\n",
      "epoch: 3 || Training Loss:30.9718 || MSE:0.0302 || KL_Loss: 0.7513 || Val_MSE:0.0496 || time 8.1176\n",
      "epoch: 4 || Training Loss:31.7704 || MSE:0.0309 || KL_Loss: 0.8227 || Val_MSE:0.0447 || time 6.2715\n",
      "epoch: 5 || Training Loss:29.5096 || MSE:0.0285 || KL_Loss: 0.9911 || Val_MSE:0.0407 || time 6.1130\n",
      "epoch: 6 || Training Loss:25.5524 || MSE:0.0243 || KL_Loss: 1.2462 || Val_MSE:0.0371 || time 6.3455\n",
      "epoch: 7 || Training Loss:26.5317 || MSE:0.0252 || KL_Loss: 1.3767 || Val_MSE:0.0341 || time 5.8964\n",
      "epoch: 8 || Training Loss:26.0267 || MSE:0.0245 || KL_Loss: 1.5705 || Val_MSE:0.0319 || time 6.5745\n",
      "epoch: 9 || Training Loss:26.4281 || MSE:0.0245 || KL_Loss: 1.9664 || Val_MSE:0.0305 || time 5.7884\n",
      "epoch: 10 || Training Loss:23.5688 || MSE:0.0215 || KL_Loss: 2.0954 || Val_MSE:0.0288 || time 5.7016\n",
      "epoch: 11 || Training Loss:22.6984 || MSE:0.0206 || KL_Loss: 2.1459 || Val_MSE:0.0277 || time 6.0455\n",
      "epoch: 12 || Training Loss:22.7739 || MSE:0.0207 || KL_Loss: 2.0584 || Val_MSE:0.0307 || time 5.5998\n",
      "epoch: 13 || Training Loss:23.7355 || MSE:0.0216 || KL_Loss: 2.1530 || Val_MSE:0.0261 || time 5.5793\n",
      "epoch: 14 || Training Loss:23.9287 || MSE:0.0218 || KL_Loss: 2.1214 || Val_MSE:0.0247 || time 6.2318\n",
      "epoch: 15 || Training Loss:22.0687 || MSE:0.0199 || KL_Loss: 2.2115 || Val_MSE:0.0216 || time 5.5691\n",
      "epoch: 16 || Training Loss:21.8838 || MSE:0.0196 || KL_Loss: 2.3164 || Val_MSE:0.0232 || time 5.5511\n",
      "epoch: 17 || Training Loss:20.8902 || MSE:0.0185 || KL_Loss: 2.3805 || Val_MSE:0.0247 || time 5.8819\n",
      "epoch: 18 || Training Loss:21.3083 || MSE:0.0189 || KL_Loss: 2.3725 || Val_MSE:0.0238 || time 5.3797\n",
      "epoch: 19 || Training Loss:22.0120 || MSE:0.0195 || KL_Loss: 2.4624 || Val_MSE:0.0255 || time 5.6599\n",
      "epoch: 20 || Training Loss:21.1982 || MSE:0.0188 || KL_Loss: 2.4419 || Val_MSE:0.0263 || time 5.6431\n",
      "epoch: 21 || Training Loss:20.5114 || MSE:0.0181 || KL_Loss: 2.3921 || Val_MSE:0.0249 || time 5.4274\n",
      "epoch: 22 || Training Loss:20.4282 || MSE:0.0180 || KL_Loss: 2.3806 || Val_MSE:0.0226 || time 5.8330\n",
      "epoch: 23 || Training Loss:23.4770 || MSE:0.0210 || KL_Loss: 2.4597 || Val_MSE:0.0232 || time 5.5230\n",
      "epoch: 24 || Training Loss:20.5829 || MSE:0.0179 || KL_Loss: 2.6704 || Val_MSE:0.0240 || time 5.5741\n",
      "epoch: 25 || Training Loss:21.3769 || MSE:0.0187 || KL_Loss: 2.6721 || Val_MSE:0.0207 || time 5.8117\n",
      "epoch: 26 || Training Loss:21.3450 || MSE:0.0187 || KL_Loss: 2.6761 || Val_MSE:0.0207 || time 5.5548\n",
      "epoch: 27 || Training Loss:22.3835 || MSE:0.0199 || KL_Loss: 2.5252 || Val_MSE:0.0219 || time 5.5054\n",
      "epoch: 28 || Training Loss:20.5387 || MSE:0.0179 || KL_Loss: 2.6538 || Val_MSE:0.0192 || time 6.0750\n",
      "epoch: 29 || Training Loss:20.4847 || MSE:0.0178 || KL_Loss: 2.6414 || Val_MSE:0.0212 || time 5.4705\n",
      "epoch: 30 || Training Loss:19.1234 || MSE:0.0165 || KL_Loss: 2.6006 || Val_MSE:0.0273 || time 5.5291\n",
      "epoch: 31 || Training Loss:19.8843 || MSE:0.0173 || KL_Loss: 2.6039 || Val_MSE:0.0202 || time 6.1499\n",
      "epoch: 32 || Training Loss:20.1901 || MSE:0.0175 || KL_Loss: 2.6542 || Val_MSE:0.0225 || time 5.7110\n",
      "epoch: 33 || Training Loss:18.9367 || MSE:0.0162 || KL_Loss: 2.6941 || Val_MSE:0.0200 || time 5.6813\n",
      "epoch: 34 || Training Loss:20.0394 || MSE:0.0175 || KL_Loss: 2.5770 || Val_MSE:0.0194 || time 6.3258\n",
      "epoch: 35 || Training Loss:19.2028 || MSE:0.0166 || KL_Loss: 2.6270 || Val_MSE:0.0207 || time 5.9223\n",
      "epoch: 36 || Training Loss:19.9563 || MSE:0.0173 || KL_Loss: 2.6701 || Val_MSE:0.0207 || time 6.4820\n",
      "epoch: 37 || Training Loss:20.0756 || MSE:0.0174 || KL_Loss: 2.7157 || Val_MSE:0.0205 || time 5.7346\n",
      "epoch: 38 || Training Loss:18.8704 || MSE:0.0162 || KL_Loss: 2.6975 || Val_MSE:0.0221 || time 5.5695\n",
      "epoch: 39 || Training Loss:19.1486 || MSE:0.0165 || KL_Loss: 2.6738 || Val_MSE:0.0191 || time 5.7759\n",
      "epoch: 40 || Training Loss:18.8342 || MSE:0.0161 || KL_Loss: 2.7612 || Val_MSE:0.0237 || time 5.4709\n",
      "epoch: 41 || Training Loss:18.8981 || MSE:0.0161 || KL_Loss: 2.8030 || Val_MSE:0.0196 || time 5.3958\n",
      "epoch: 42 || Training Loss:19.0253 || MSE:0.0162 || KL_Loss: 2.8243 || Val_MSE:0.0243 || time 5.7991\n",
      "epoch: 43 || Training Loss:19.2142 || MSE:0.0164 || KL_Loss: 2.8071 || Val_MSE:0.0189 || time 5.4246\n",
      "epoch: 44 || Training Loss:19.2809 || MSE:0.0166 || KL_Loss: 2.7305 || Val_MSE:0.0231 || time 5.4526\n",
      "epoch: 45 || Training Loss:17.3806 || MSE:0.0146 || KL_Loss: 2.7625 || Val_MSE:0.0234 || time 5.8353\n",
      "epoch: 46 || Training Loss:17.9073 || MSE:0.0151 || KL_Loss: 2.8098 || Val_MSE:0.0223 || time 5.7865\n",
      "epoch: 47 || Training Loss:19.3799 || MSE:0.0164 || KL_Loss: 2.9369 || Val_MSE:0.0222 || time 6.2319\n",
      "epoch: 48 || Training Loss:18.4437 || MSE:0.0156 || KL_Loss: 2.8336 || Val_MSE:0.0215 || time 6.1603\n",
      "epoch: 49 || Training Loss:18.9840 || MSE:0.0162 || KL_Loss: 2.7801 || Val_MSE:0.0189 || time 5.9747\n",
      "epoch: 50 || Training Loss:19.3304 || MSE:0.0164 || KL_Loss: 2.9062 || Val_MSE:0.0205 || time 5.8910\n",
      "epoch: 51 || Training Loss:18.5308 || MSE:0.0156 || KL_Loss: 2.9735 || Val_MSE:0.0207 || time 5.6035\n",
      "epoch: 52 || Training Loss:17.2829 || MSE:0.0143 || KL_Loss: 3.0002 || Val_MSE:0.0212 || time 5.5756\n",
      "epoch: 53 || Training Loss:18.8479 || MSE:0.0158 || KL_Loss: 3.0032 || Val_MSE:0.0188 || time 6.6860\n",
      "epoch: 54 || Training Loss:18.3140 || MSE:0.0153 || KL_Loss: 3.0189 || Val_MSE:0.0207 || time 5.7515\n",
      "epoch: 55 || Training Loss:16.8730 || MSE:0.0139 || KL_Loss: 2.9683 || Val_MSE:0.0234 || time 6.0388\n",
      "epoch: 56 || Training Loss:17.8473 || MSE:0.0148 || KL_Loss: 3.0264 || Val_MSE:0.0186 || time 6.1143\n",
      "epoch: 57 || Training Loss:17.4432 || MSE:0.0145 || KL_Loss: 2.9266 || Val_MSE:0.0180 || time 5.4356\n",
      "epoch: 58 || Training Loss:17.2193 || MSE:0.0143 || KL_Loss: 2.9487 || Val_MSE:0.0203 || time 6.2776\n",
      "epoch: 59 || Training Loss:17.4675 || MSE:0.0145 || KL_Loss: 2.9947 || Val_MSE:0.0181 || time 5.8203\n",
      "epoch: 60 || Training Loss:17.3359 || MSE:0.0143 || KL_Loss: 2.9985 || Val_MSE:0.0193 || time 5.5935\n"
     ]
    }
   ],
   "source": [
    "training_loss_list = []\n",
    "mse_loss_list = []\n",
    "kl_loss_list = []\n",
    "val_mse_list = []\n",
    "\n",
    "\n",
    "def train(train_dataset,val_dataset = None, epochs = 50):\n",
    "  for epoch in range(epochs):\n",
    "    epoch_loss = []\n",
    "    epoch_mse_loss = []\n",
    "    epoch_kl_loss = []\n",
    "    epoch_val_loss=[]\n",
    "    \n",
    "    start = time.time()\n",
    "    for image_batch in train_dataset:\n",
    "      loss,MSE,KLE = train_step(image_batch)\n",
    "      epoch_loss.append(np.mean(loss))\n",
    "      epoch_mse_loss.append(np.mean(MSE))\n",
    "      epoch_kl_loss.append(np.mean(KLE))\n",
    "\n",
    "    \n",
    "    if val_dataset:\n",
    "      for image_batch in val_dataset:\n",
    "        val_mse =np.mean(val_step(image_batch))\n",
    "        epoch_val_loss.append(val_mse)\n",
    "      epoch_val_loss = np.mean(epoch_val_loss)\n",
    "\n",
    "\n",
    "    \n",
    "    epoch_loss = np.mean(epoch_loss)\n",
    "    epoch_mse_loss = np.mean(epoch_mse_loss)\n",
    "    epoch_kl_loss = np.mean(epoch_kl_loss)\n",
    "    \n",
    "    training_loss_list.append(epoch_loss)\n",
    "    mse_loss_list.append(epoch_mse_loss)\n",
    "    kl_loss_list.append(epoch_kl_loss)\n",
    "    val_mse_list.append(epoch_val_loss)\n",
    "    \n",
    "    print(f'epoch: {epoch+1} || Training Loss:{epoch_loss:.4f} || MSE:{epoch_mse_loss:.4f} || KL_Loss: {epoch_kl_loss:.4f} || Val_MSE:{epoch_val_loss:.4f} || time {time.time()-start:.4f}')\n",
    "   \n",
    "  \n",
    "#train for 120 epochs \n",
    "train(normalized_train_ds, val_dataset = normalized_val_ds, epochs = 60)"
   ]
  },
  {
   "cell_type": "markdown",
   "id": "94efd8ab",
   "metadata": {},
   "source": [
    "<b>VISUALIZE PERFORMANCE OF THE VAE</b>"
   ]
  },
  {
   "cell_type": "code",
   "execution_count": 10,
   "id": "06f8585a",
   "metadata": {},
   "outputs": [
    {
     "data": {
      "image/png": "[encoded data removed]",
      "text/plain": [
       "<Figure size 640x480 with 4 Axes>"
      ]
     },
     "metadata": {},
     "output_type": "display_data"
    }
   ],
   "source": [
    "num_of_epochs = 60\n",
    "fig, axs = plt.subplots(2, 2)\n",
    "axs[0, 0].plot(range(1,num_of_epochs+1), training_loss_list,'r')\n",
    "axs[0, 0].set_title(\"Training Loss/Epoch\")\n",
    "axs[1, 0].plot(range(1,num_of_epochs+1), mse_loss_list,'b')\n",
    "axs[1, 0].set_title(\"MSE/Epoch\")\n",
    "\n",
    "axs[0, 1].plot(range(1,num_of_epochs+1), kl_loss_list,'g')\n",
    "axs[0, 1].set_title(\"KLD Loss/Epoch\")\n",
    "axs[1, 1].plot(range(1,num_of_epochs+1), val_mse_list,'y')\n",
    "axs[1, 1].set_title(\"Validation Data MSE/Epoch\")\n",
    "fig.suptitle('Visualizing Losses During Training')\n",
    "fig.tight_layout();"
   ]
  },
  {
   "cell_type": "code",
   "execution_count": 11,
   "id": "e3690fee",
   "metadata": {},
   "outputs": [
    {
     "name": "stdout",
     "output_type": "stream",
     "text": [
      "1/1 [==============================] - 2s 2s/step\n",
      "1/1 [==============================] - 0s 407ms/step\n"
     ]
    },
    {
     "data": {
      "image/png": "[encoded data removed]",
      "text/plain": [
       "<Figure size 640x480 with 2 Axes>"
      ]
     },
     "metadata": {},
     "output_type": "display_data"
    }
   ],
   "source": [
    "sample_img_1 = 'D:\\\\Documents\\\\DATA_SET_FOR_RELEASE\\\\renamed\\\\all_train\\\\5\\\\I359_Steel---HHA_abrasive-blasted_zirconium-pretreatment_MIL-DTL-53022_MIL-DTL-53039.jpg'\n",
    "img_1 = plt.imread(sample_img_1)\n",
    "\n",
    "sample = tf.keras.Sequential([layers.Resizing(28,28, input_shape = (512,512,3)),\n",
    "                              layers.Rescaling(scale= 1./255)])\n",
    "                             \n",
    "sample_1 = sample(np.expand_dims(img_1, axis = 0)).numpy()\n",
    "\n",
    "m, v = enc.predict(sample_1)\n",
    "latent = sampler([m,v])\n",
    "\n",
    "reconst = dec.predict(latent)\n",
    "reconst = np.reshape(reconst,(28,28,3))\n",
    "\n",
    "fig, (axs_1,axs_2) = plt.subplots(1, 2, sharey='row')\n",
    "axs_1.imshow(np.squeeze(sample_1))\n",
    "axs_1.set_title(\"Sample Image\")\n",
    "\n",
    "axs_2.imshow(reconst)\n",
    "axs_2.set_title(\"Regenerated Image\")\n",
    "fig.suptitle('Visualizing the Image from the decoder')\n",
    "fig.tight_layout();"
   ]
  },
  {
   "cell_type": "markdown",
   "id": "4b6963d0",
   "metadata": {},
   "source": [
    "<b>TRAINING THE CLASSIFIERS</b>"
   ]
  },
  {
   "cell_type": "code",
   "execution_count": 12,
   "id": "860edfbf",
   "metadata": {},
   "outputs": [],
   "source": [
    "import os\n",
    "from PIL import Image\n",
    "\n",
    "from sklearn.preprocessing import LabelEncoder\n",
    "from sklearn.model_selection import train_test_split\n",
    "from sklearn.model_selection import RepeatedStratifiedKFold\n",
    "from skopt import BayesSearchCV\n",
    "from skopt.space import Categorical, Integer, Real\n",
    "from sklearn.metrics import accuracy_score\n",
    "\n",
    "\n",
    "from sklearn.tree import DecisionTreeClassifier\n",
    "from sklearn.svm import SVC\n",
    "from sklearn.neighbors import KNeighborsClassifier\n",
    "from sklearn.linear_model import LogisticRegression\n",
    "from sklearn.ensemble import VotingClassifier\n",
    "from sklearn.ensemble import RandomForestClassifier\n",
    "import xgboost\n",
    "\n",
    "import warnings\n",
    "\n",
    "\n",
    "warnings.filterwarnings('ignore')\n",
    "cv = RepeatedStratifiedKFold(n_splits=10, n_repeats=3, random_state=1)"
   ]
  },
  {
   "cell_type": "markdown",
   "id": "ccea5711",
   "metadata": {},
   "source": [
    "<b>PREPROCESSING THE DATASET FOR THE CLASSIFIERS</b>"
   ]
  },
  {
   "cell_type": "code",
   "execution_count": 13,
   "id": "473f50ad",
   "metadata": {},
   "outputs": [
    {
     "data": {
      "text/html": [
       "<div>\n",
       "<style scoped>\n",
       "    .dataframe tbody tr th:only-of-type {\n",
       "        vertical-align: middle;\n",
       "    }\n",
       "\n",
       "    .dataframe tbody tr th {\n",
       "        vertical-align: top;\n",
       "    }\n",
       "\n",
       "    .dataframe thead th {\n",
       "        text-align: right;\n",
       "    }\n",
       "</style>\n",
       "<table border=\"1\" class=\"dataframe\">\n",
       "  <thead>\n",
       "    <tr style=\"text-align: right;\">\n",
       "      <th></th>\n",
       "      <th>image</th>\n",
       "      <th>label</th>\n",
       "    </tr>\n",
       "  </thead>\n",
       "  <tbody>\n",
       "    <tr>\n",
       "      <th>0</th>\n",
       "      <td>[[[250, 255, 246], [239, 245, 235], [246, 247,...</td>\n",
       "      <td>5</td>\n",
       "    </tr>\n",
       "    <tr>\n",
       "      <th>1</th>\n",
       "      <td>[[[244, 255, 241], [243, 249, 235], [247, 241,...</td>\n",
       "      <td>5</td>\n",
       "    </tr>\n",
       "    <tr>\n",
       "      <th>2</th>\n",
       "      <td>[[[255, 249, 231], [248, 240, 221], [255, 243,...</td>\n",
       "      <td>5</td>\n",
       "    </tr>\n",
       "    <tr>\n",
       "      <th>3</th>\n",
       "      <td>[[[253, 255, 247], [241, 247, 237], [244, 250,...</td>\n",
       "      <td>5</td>\n",
       "    </tr>\n",
       "    <tr>\n",
       "      <th>4</th>\n",
       "      <td>[[[255, 242, 222], [246, 229, 211], [244, 230,...</td>\n",
       "      <td>5</td>\n",
       "    </tr>\n",
       "    <tr>\n",
       "      <th>5</th>\n",
       "      <td>[[[255, 255, 250], [18, 17, 12], [18, 17, 13],...</td>\n",
       "      <td>5</td>\n",
       "    </tr>\n",
       "    <tr>\n",
       "      <th>6</th>\n",
       "      <td>[[[255, 252, 249], [250, 247, 242], [255, 250,...</td>\n",
       "      <td>5</td>\n",
       "    </tr>\n",
       "    <tr>\n",
       "      <th>7</th>\n",
       "      <td>[[[255, 255, 246], [243, 239, 230], [245, 238,...</td>\n",
       "      <td>5</td>\n",
       "    </tr>\n",
       "    <tr>\n",
       "      <th>8</th>\n",
       "      <td>[[[255, 249, 232], [251, 244, 228], [247, 245,...</td>\n",
       "      <td>5</td>\n",
       "    </tr>\n",
       "    <tr>\n",
       "      <th>9</th>\n",
       "      <td>[[[249, 255, 238], [242, 246, 229], [244, 240,...</td>\n",
       "      <td>5</td>\n",
       "    </tr>\n",
       "  </tbody>\n",
       "</table>\n",
       "</div>"
      ],
      "text/plain": [
       "                                               image label\n",
       "0  [[[250, 255, 246], [239, 245, 235], [246, 247,...     5\n",
       "1  [[[244, 255, 241], [243, 249, 235], [247, 241,...     5\n",
       "2  [[[255, 249, 231], [248, 240, 221], [255, 243,...     5\n",
       "3  [[[253, 255, 247], [241, 247, 237], [244, 250,...     5\n",
       "4  [[[255, 242, 222], [246, 229, 211], [244, 230,...     5\n",
       "5  [[[255, 255, 250], [18, 17, 12], [18, 17, 13],...     5\n",
       "6  [[[255, 252, 249], [250, 247, 242], [255, 250,...     5\n",
       "7  [[[255, 255, 246], [243, 239, 230], [245, 238,...     5\n",
       "8  [[[255, 249, 232], [251, 244, 228], [247, 245,...     5\n",
       "9  [[[249, 255, 238], [242, 246, 229], [244, 240,...     5"
      ]
     },
     "execution_count": 13,
     "metadata": {},
     "output_type": "execute_result"
    }
   ],
   "source": [
    "\n",
    "\n",
    "root_Dir = 'D:\\\\Documents\\\\DATA_SET_FOR_RELEASE\\\\renamed\\\\all_train'\n",
    "\n",
    "#Create an empty dataframe\n",
    "df = pd.DataFrame(columns=['image', 'label'])\n",
    "#Iterate over the sub directories within the root directory\n",
    "for dirs, subdirs, files in os.walk(root_Dir):\n",
    "  for file in files:\n",
    "    file_path = os.path.join(dirs, file)\n",
    "    \n",
    "    #load the image\n",
    "    with Image.open(file_path) as img:\n",
    "      #convert image to numpy array\n",
    "      img_array = np.array(img)\n",
    "      #Extract the label\n",
    "      label = os.path.basename(dirs)\n",
    "      #Add the image and label to the dataframe\n",
    "      df = df.append({'image':img_array, 'label':label}, ignore_index = True)\n",
    "# df = df.sample(frac = 1).reset_index(drop = True)\n",
    "df.head(10)"
   ]
  },
  {
   "cell_type": "code",
   "execution_count": 14,
   "id": "f5435ab5",
   "metadata": {},
   "outputs": [
    {
     "name": "stdout",
     "output_type": "stream",
     "text": [
      "17/17 [==============================] - 0s 22ms/step\n",
      "17/17 [==============================] - 4s 234ms/step\n"
     ]
    }
   ],
   "source": [
    "y = df['label']\n",
    "X = df['image'].values\n",
    "X = np.stack(X)\n",
    "\n",
    "preprocessing_model = tf.keras.Sequential()\n",
    "preprocessing_model.add(tf.keras.Input(shape=(512,512,3)))\n",
    "preprocessing_model.add(tf.keras.layers.Resizing(28,28))\n",
    "preprocessing_model.add(tf.keras.layers.Rescaling(scale= 1./255))\n",
    "X1 = preprocessing_model.predict(X)\n",
    "\n",
    "a,b = enc.predict(X1, batch_size=batch_size)"
   ]
  },
  {
   "cell_type": "markdown",
   "id": "93dce257",
   "metadata": {},
   "source": [
    "<b>DECISION TREE CLASSIFIER</b>"
   ]
  },
  {
   "cell_type": "code",
   "execution_count": 15,
   "id": "fc7f0a24",
   "metadata": {},
   "outputs": [
    {
     "name": "stdout",
     "output_type": "stream",
     "text": [
      "Accuracy Score:  0.5092592592592593\n"
     ]
    }
   ],
   "source": [
    "\n",
    "LE = LabelEncoder()\n",
    "X_train, X_test, y_train_raw, y_test_raw = train_test_split(a, y, test_size=0.2, random_state=42)\n",
    "y_train = LE.fit_transform(y_train_raw)\n",
    "y_test = LE.transform(y_test_raw)\n",
    "DT = DecisionTreeClassifier(max_leaf_nodes=5)\n",
    "DT.fit(X_train, y_train)\n",
    "DT_y_pred = DT.predict(X_test)\n",
    "\n",
    "\n",
    "print('Accuracy Score: ', accuracy_score(y_test, DT_y_pred))"
   ]
  },
  {
   "cell_type": "markdown",
   "id": "2e50f773",
   "metadata": {},
   "source": [
    "<b>RANDOM FOREST CLASSIFIER</b>"
   ]
  },
  {
   "cell_type": "code",
   "execution_count": 16,
   "id": "35cbc706",
   "metadata": {},
   "outputs": [
    {
     "name": "stdout",
     "output_type": "stream",
     "text": [
      "Accuracy Score:  0.5648148148148148\n"
     ]
    }
   ],
   "source": [
    "\n",
    "RF_search_space = {\"bootstrap\": Categorical([True, False]), # values for boostrap can be either True or False\n",
    "        \"max_depth\": Integer(6, 10), # values of max_depth are integers from 6 to 20\n",
    "        \"max_features\": Categorical(['auto', 'sqrt','log2']), \n",
    "        \"min_samples_leaf\": Integer(2, 8),\n",
    "        \"min_samples_split\": Integer(2, 5),\n",
    "        \"n_estimators\": Integer(350, 500)\n",
    "    }\n",
    "RF = RandomForestClassifier()\n",
    "RF_bayes_search = BayesSearchCV(RF, RF_search_space, n_iter=50, # specify how many iterations\n",
    "                                    scoring=\"accuracy\", n_jobs=-1, cv=5)\n",
    "RF_bayes_search.fit(X_train, y_train) \n",
    "RF_y_pred = RF_bayes_search.predict(X_test)\n",
    "\n",
    "print('Accuracy Score: ',accuracy_score(y_test, RF_y_pred))"
   ]
  },
  {
   "cell_type": "markdown",
   "id": "2e52f4b3",
   "metadata": {},
   "source": [
    "<b>SUPPORT VECTOR CLASSIFIER</b>"
   ]
  },
  {
   "cell_type": "code",
   "execution_count": 17,
   "id": "242f7478",
   "metadata": {},
   "outputs": [
    {
     "name": "stdout",
     "output_type": "stream",
     "text": [
      "Accuracy Score:  0.5740740740740741\n"
     ]
    }
   ],
   "source": [
    "SVM = SVC()\n",
    "SVM_search_space = {'C':Real(0.01,2),\n",
    "                    'kernel':Categorical(['linear','rbf'])}\n",
    "SVM_bayes_search = BayesSearchCV(SVM, SVM_search_space, n_iter = 50, n_jobs = -1, cv = cv,\n",
    "                                scoring = 'accuracy')\n",
    "SVM_bayes_search.fit(X_train, y_train)\n",
    "\n",
    "SVM_y_pred = SVM_bayes_search.predict(X_test)\n",
    "\n",
    "\n",
    "print('Accuracy Score: ',accuracy_score(y_test, SVM_y_pred))"
   ]
  },
  {
   "cell_type": "markdown",
   "id": "59f40fd4",
   "metadata": {},
   "source": [
    "<b>NEAREST NEIGHBORS CLASSIFIER</b>"
   ]
  },
  {
   "cell_type": "code",
   "execution_count": 18,
   "id": "f406292c",
   "metadata": {},
   "outputs": [
    {
     "name": "stdout",
     "output_type": "stream",
     "text": [
      "Accuracy Score:  0.5462962962962963\n"
     ]
    }
   ],
   "source": [
    "\n",
    "KNN = KNeighborsClassifier()\n",
    "KNN_search_space = {'n_neighbors':Integer(35,45),\n",
    "                  }\n",
    "KNN_bayes_search = BayesSearchCV(KNN, KNN_search_space, n_iter = 50, n_jobs = -1, cv = cv, \n",
    "                                scoring ='accuracy')\n",
    "KNN_bayes_search.fit(X_train, y_train)\n",
    "KNN_y_pred = KNN_bayes_search.predict(X_test)\n",
    "\n",
    "\n",
    "print('Accuracy Score: ',accuracy_score(y_test, KNN_y_pred))"
   ]
  },
  {
   "cell_type": "markdown",
   "id": "18872060",
   "metadata": {},
   "source": [
    "<b>LOGISTIC REGRESSION CLASSIFIER</b>"
   ]
  },
  {
   "cell_type": "code",
   "execution_count": 19,
   "id": "ab42d0d4",
   "metadata": {},
   "outputs": [
    {
     "name": "stdout",
     "output_type": "stream",
     "text": [
      "Accuracy Score:  0.5462962962962963\n"
     ]
    }
   ],
   "source": [
    "\n",
    "LR = LogisticRegression()\n",
    "LR_search_space = {'C':Real(0.01,1),\n",
    "                    'penalty':Categorical(['l2','none']),\n",
    "                    'max_iter':Integer(50,150),\n",
    "                    'l1_ratio': Real(0,1)}\n",
    "LR_bayes_search = BayesSearchCV(LR, LR_search_space, n_iter = 50, n_jobs = -1, cv = 5,\n",
    "                                scoring = 'accuracy')\n",
    "LR_bayes_search.fit(X_train, y_train)\n",
    "\n",
    "LR_y_pred = LR_bayes_search.predict(X_test)\n",
    "\n",
    "\n",
    "print('Accuracy Score: ',accuracy_score(y_test,LR_y_pred))"
   ]
  },
  {
   "cell_type": "markdown",
   "id": "23a39e4f",
   "metadata": {},
   "source": [
    "<b>EXTREME GRADIENT BOOST CLASSIFIER</b>"
   ]
  },
  {
   "cell_type": "code",
   "execution_count": 20,
   "id": "734ce4bc",
   "metadata": {},
   "outputs": [
    {
     "name": "stdout",
     "output_type": "stream",
     "text": [
      "Accuracy Score:  0.5185185185185185\n"
     ]
    }
   ],
   "source": [
    "\n",
    "LE = LabelEncoder()\n",
    "xgb_y_train = LE.fit_transform(y_train)\n",
    "xgb_y_test = LE.transform(y_test)\n",
    "XGB = xgboost.XGBClassifier()\n",
    "\n",
    "XGB_search_space = {\n",
    "                   'max_depth':Integer(3,10),\n",
    "                    'n_estimators':Integer(100,800)\n",
    "                   }\n",
    "XGB_bayes_search = BayesSearchCV(XGB, XGB_search_space, n_iter = 50, n_jobs = -1, cv = 5,\n",
    "                                scoring = 'accuracy')\n",
    "XGB_bayes_search.fit(X_train,y_train)\n",
    "\n",
    "XGB_y_pred  = XGB_bayes_search.predict(X_test)\n",
    "\n",
    "\n",
    "print('Accuracy Score: ',accuracy_score(y_test,XGB_y_pred ))"
   ]
  },
  {
   "cell_type": "markdown",
   "id": "8afbf40b",
   "metadata": {},
   "source": [
    "<b>VOTING CLASSIFIER</b>"
   ]
  },
  {
   "cell_type": "code",
   "execution_count": 21,
   "id": "6fb21008",
   "metadata": {},
   "outputs": [
    {
     "name": "stdout",
     "output_type": "stream",
     "text": [
      "VC_hard_accuracy: 0.5740740740740741\n",
      "VC_soft_accuracy: 0.5740740740740741\n"
     ]
    }
   ],
   "source": [
    "\n",
    "RF_params = dict(RF_bayes_search.best_params_)\n",
    "KNN_params = dict(KNN_bayes_search.best_params_)\n",
    "SVM_params = dict(SVM_bayes_search.best_params_)\n",
    "LR_params = dict(LR_bayes_search.best_params_)\n",
    "XGB_params = dict(XGB_bayes_search.best_params_)\n",
    "\n",
    "\n",
    "estimator = []\n",
    "\n",
    "estimator.append(('RF', RandomForestClassifier(bootstrap=RF_params['bootstrap'],\n",
    "                                                max_depth=RF_params['max_depth'],\n",
    "                                                max_features=RF_params['max_features'],\n",
    "                                                min_samples_leaf = RF_params['min_samples_leaf'],\n",
    "                                                min_samples_split=RF_params['min_samples_split'],\n",
    "                                                n_estimators =  RF_params['n_estimators'])))\n",
    "\n",
    "estimator.append(('SVM', SVC(C=SVM_params['C'],\n",
    "                             kernel=SVM_params['kernel'],\n",
    "                            probability=True)))\n",
    "\n",
    "estimator.append(('KNN', KNeighborsClassifier(n_neighbors=KNN_params['n_neighbors'])))\n",
    "\n",
    "estimator.append(('LR', LogisticRegression(C=LR_params['C'],\n",
    "                                           l1_ratio=LR_params['l1_ratio'],\n",
    "                                           max_iter=LR_params['max_iter'],\n",
    "                                           penalty = LR_params['penalty'])))\n",
    "\n",
    "estimator.append(('XGB', xgboost.XGBClassifier(max_depth=XGB_params['max_depth'],\n",
    "                                              n_estimators = XGB_params['n_estimators'],\n",
    "                                              objective='multi: softprob')))\n",
    "\n",
    "VC_hard = VotingClassifier(estimators = estimator, voting = 'hard')\n",
    "VC_soft = VotingClassifier(estimators = estimator, voting = 'soft')\n",
    "\n",
    "VC_hard.fit(X_train, y_train)\n",
    "VC_soft.fit(X_train, y_train)\n",
    "\n",
    "VC_hard_pred = VC_hard.predict(X_test)\n",
    "VC_soft_pred = VC_soft.predict(X_test)\n",
    "\n",
    "print(f'VC_hard_accuracy: {accuracy_score(y_test,VC_hard_pred)}')\n",
    "print(f'VC_soft_accuracy: {accuracy_score(y_test,VC_soft_pred)}')"
   ]
  },
  {
   "cell_type": "markdown",
   "id": "869ad83f",
   "metadata": {},
   "source": [
    "<b>RESULT FROM HYPER PARAMETER SEARCH</b>"
   ]
  },
  {
   "cell_type": "code",
   "execution_count": 22,
   "id": "82f2fdd8",
   "metadata": {},
   "outputs": [
    {
     "name": "stdout",
     "output_type": "stream",
     "text": [
      "RF Hyper-parameters: {'bootstrap': True, 'max_depth': 7, 'max_features': 'auto', 'min_samples_leaf': 8, 'min_samples_split': 3, 'n_estimators': 395}\n",
      "\n",
      "\n",
      "SVM Hyper-parameters: {'C': 1.2158612406975948, 'kernel': 'rbf'}\n",
      "\n",
      "\n",
      "KNN Hyper-parameters: {'n_neighbors': 36}\n",
      "\n",
      "\n",
      "LR Hyper-parameters: {'C': 0.8902835401739487, 'l1_ratio': 0.804875416793729, 'max_iter': 126, 'penalty': 'l2'}\n",
      "\n",
      "\n",
      "XGB Hyper-parameters: {'max_depth': 4, 'n_estimators': 100}\n"
     ]
    }
   ],
   "source": [
    "print('RF Hyper-parameters:', dict(RF_bayes_search.best_params_))\n",
    "print('\\n\\nSVM Hyper-parameters:', dict(SVM_bayes_search.best_params_))\n",
    "print('\\n\\nKNN Hyper-parameters:', dict(KNN_bayes_search.best_params_))\n",
    "print('\\n\\nLR Hyper-parameters:', dict(LR_bayes_search.best_params_))\n",
    "print('\\n\\nXGB Hyper-parameters:', dict(XGB_bayes_search.best_params_))"
   ]
  }
 ],
 "metadata": {
  "kernelspec": {
   "display_name": "Python 3 (ipykernel)",
   "language": "python",
   "name": "python3"
  },
  "language_info": {
   "codemirror_mode": {
    "name": "ipython",
    "version": 3
   },
   "file_extension": ".py",
   "mimetype": "text/x-python",
   "name": "python",
   "nbconvert_exporter": "python",
   "pygments_lexer": "ipython3",
   "version": "3.9.12"
  }
 },
 "nbformat": 4,
 "nbformat_minor": 5
}
